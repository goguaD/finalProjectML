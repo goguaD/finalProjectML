{
  "cells": [
    {
      "cell_type": "code",
      "source": [
        "from google.colab import drive\n",
        "import os\n",
        "import json\n",
        "import zipfile\n",
        "import pandas as pd\n",
        "import numpy as np\n",
        "import matplotlib.pyplot as plt\n",
        "import seaborn as sns\n",
        "from sklearn.preprocessing import StandardScaler, LabelEncoder\n",
        "from sklearn.metrics import mean_absolute_error\n",
        "import torch\n",
        "import torch.nn as nn\n",
        "import torch.optim as optim\n",
        "from torch.utils.data import Dataset, DataLoader\n",
        "import warnings\n",
        "warnings.filterwarnings('ignore')"
      ],
      "metadata": {
        "id": "SWCTOVXUN5rq"
      },
      "execution_count": 1,
      "outputs": []
    },
    {
      "cell_type": "code",
      "source": [
        "print(\"Mounting Google Drive...\")\n",
        "drive.mount('/content/drive')"
      ],
      "metadata": {
        "colab": {
          "base_uri": "https://localhost:8080/"
        },
        "id": "A5i2hPMCN57W",
        "outputId": "5011cb8b-9552-41b6-b3ba-2474b05739c3"
      },
      "execution_count": 2,
      "outputs": [
        {
          "output_type": "stream",
          "name": "stdout",
          "text": [
            "Mounting Google Drive...\n",
            "Mounted at /content/drive\n"
          ]
        }
      ]
    },
    {
      "cell_type": "code",
      "source": [
        "from google.colab import files\n",
        "files.upload()"
      ],
      "metadata": {
        "colab": {
          "base_uri": "https://localhost:8080/",
          "height": 92
        },
        "id": "KWohnufbN-Av",
        "outputId": "3085da1e-4ed6-4424-df90-923b8e9fbd60"
      },
      "execution_count": 3,
      "outputs": [
        {
          "output_type": "display_data",
          "data": {
            "text/plain": [
              "<IPython.core.display.HTML object>"
            ],
            "text/html": [
              "\n",
              "     <input type=\"file\" id=\"files-2e119cc9-cf79-479b-b901-e93045080c0a\" name=\"files[]\" multiple disabled\n",
              "        style=\"border:none\" />\n",
              "     <output id=\"result-2e119cc9-cf79-479b-b901-e93045080c0a\">\n",
              "      Upload widget is only available when the cell has been executed in the\n",
              "      current browser session. Please rerun this cell to enable.\n",
              "      </output>\n",
              "      <script>// Copyright 2017 Google LLC\n",
              "//\n",
              "// Licensed under the Apache License, Version 2.0 (the \"License\");\n",
              "// you may not use this file except in compliance with the License.\n",
              "// You may obtain a copy of the License at\n",
              "//\n",
              "//      http://www.apache.org/licenses/LICENSE-2.0\n",
              "//\n",
              "// Unless required by applicable law or agreed to in writing, software\n",
              "// distributed under the License is distributed on an \"AS IS\" BASIS,\n",
              "// WITHOUT WARRANTIES OR CONDITIONS OF ANY KIND, either express or implied.\n",
              "// See the License for the specific language governing permissions and\n",
              "// limitations under the License.\n",
              "\n",
              "/**\n",
              " * @fileoverview Helpers for google.colab Python module.\n",
              " */\n",
              "(function(scope) {\n",
              "function span(text, styleAttributes = {}) {\n",
              "  const element = document.createElement('span');\n",
              "  element.textContent = text;\n",
              "  for (const key of Object.keys(styleAttributes)) {\n",
              "    element.style[key] = styleAttributes[key];\n",
              "  }\n",
              "  return element;\n",
              "}\n",
              "\n",
              "// Max number of bytes which will be uploaded at a time.\n",
              "const MAX_PAYLOAD_SIZE = 100 * 1024;\n",
              "\n",
              "function _uploadFiles(inputId, outputId) {\n",
              "  const steps = uploadFilesStep(inputId, outputId);\n",
              "  const outputElement = document.getElementById(outputId);\n",
              "  // Cache steps on the outputElement to make it available for the next call\n",
              "  // to uploadFilesContinue from Python.\n",
              "  outputElement.steps = steps;\n",
              "\n",
              "  return _uploadFilesContinue(outputId);\n",
              "}\n",
              "\n",
              "// This is roughly an async generator (not supported in the browser yet),\n",
              "// where there are multiple asynchronous steps and the Python side is going\n",
              "// to poll for completion of each step.\n",
              "// This uses a Promise to block the python side on completion of each step,\n",
              "// then passes the result of the previous step as the input to the next step.\n",
              "function _uploadFilesContinue(outputId) {\n",
              "  const outputElement = document.getElementById(outputId);\n",
              "  const steps = outputElement.steps;\n",
              "\n",
              "  const next = steps.next(outputElement.lastPromiseValue);\n",
              "  return Promise.resolve(next.value.promise).then((value) => {\n",
              "    // Cache the last promise value to make it available to the next\n",
              "    // step of the generator.\n",
              "    outputElement.lastPromiseValue = value;\n",
              "    return next.value.response;\n",
              "  });\n",
              "}\n",
              "\n",
              "/**\n",
              " * Generator function which is called between each async step of the upload\n",
              " * process.\n",
              " * @param {string} inputId Element ID of the input file picker element.\n",
              " * @param {string} outputId Element ID of the output display.\n",
              " * @return {!Iterable<!Object>} Iterable of next steps.\n",
              " */\n",
              "function* uploadFilesStep(inputId, outputId) {\n",
              "  const inputElement = document.getElementById(inputId);\n",
              "  inputElement.disabled = false;\n",
              "\n",
              "  const outputElement = document.getElementById(outputId);\n",
              "  outputElement.innerHTML = '';\n",
              "\n",
              "  const pickedPromise = new Promise((resolve) => {\n",
              "    inputElement.addEventListener('change', (e) => {\n",
              "      resolve(e.target.files);\n",
              "    });\n",
              "  });\n",
              "\n",
              "  const cancel = document.createElement('button');\n",
              "  inputElement.parentElement.appendChild(cancel);\n",
              "  cancel.textContent = 'Cancel upload';\n",
              "  const cancelPromise = new Promise((resolve) => {\n",
              "    cancel.onclick = () => {\n",
              "      resolve(null);\n",
              "    };\n",
              "  });\n",
              "\n",
              "  // Wait for the user to pick the files.\n",
              "  const files = yield {\n",
              "    promise: Promise.race([pickedPromise, cancelPromise]),\n",
              "    response: {\n",
              "      action: 'starting',\n",
              "    }\n",
              "  };\n",
              "\n",
              "  cancel.remove();\n",
              "\n",
              "  // Disable the input element since further picks are not allowed.\n",
              "  inputElement.disabled = true;\n",
              "\n",
              "  if (!files) {\n",
              "    return {\n",
              "      response: {\n",
              "        action: 'complete',\n",
              "      }\n",
              "    };\n",
              "  }\n",
              "\n",
              "  for (const file of files) {\n",
              "    const li = document.createElement('li');\n",
              "    li.append(span(file.name, {fontWeight: 'bold'}));\n",
              "    li.append(span(\n",
              "        `(${file.type || 'n/a'}) - ${file.size} bytes, ` +\n",
              "        `last modified: ${\n",
              "            file.lastModifiedDate ? file.lastModifiedDate.toLocaleDateString() :\n",
              "                                    'n/a'} - `));\n",
              "    const percent = span('0% done');\n",
              "    li.appendChild(percent);\n",
              "\n",
              "    outputElement.appendChild(li);\n",
              "\n",
              "    const fileDataPromise = new Promise((resolve) => {\n",
              "      const reader = new FileReader();\n",
              "      reader.onload = (e) => {\n",
              "        resolve(e.target.result);\n",
              "      };\n",
              "      reader.readAsArrayBuffer(file);\n",
              "    });\n",
              "    // Wait for the data to be ready.\n",
              "    let fileData = yield {\n",
              "      promise: fileDataPromise,\n",
              "      response: {\n",
              "        action: 'continue',\n",
              "      }\n",
              "    };\n",
              "\n",
              "    // Use a chunked sending to avoid message size limits. See b/62115660.\n",
              "    let position = 0;\n",
              "    do {\n",
              "      const length = Math.min(fileData.byteLength - position, MAX_PAYLOAD_SIZE);\n",
              "      const chunk = new Uint8Array(fileData, position, length);\n",
              "      position += length;\n",
              "\n",
              "      const base64 = btoa(String.fromCharCode.apply(null, chunk));\n",
              "      yield {\n",
              "        response: {\n",
              "          action: 'append',\n",
              "          file: file.name,\n",
              "          data: base64,\n",
              "        },\n",
              "      };\n",
              "\n",
              "      let percentDone = fileData.byteLength === 0 ?\n",
              "          100 :\n",
              "          Math.round((position / fileData.byteLength) * 100);\n",
              "      percent.textContent = `${percentDone}% done`;\n",
              "\n",
              "    } while (position < fileData.byteLength);\n",
              "  }\n",
              "\n",
              "  // All done.\n",
              "  yield {\n",
              "    response: {\n",
              "      action: 'complete',\n",
              "    }\n",
              "  };\n",
              "}\n",
              "\n",
              "scope.google = scope.google || {};\n",
              "scope.google.colab = scope.google.colab || {};\n",
              "scope.google.colab._files = {\n",
              "  _uploadFiles,\n",
              "  _uploadFilesContinue,\n",
              "};\n",
              "})(self);\n",
              "</script> "
            ]
          },
          "metadata": {}
        },
        {
          "output_type": "stream",
          "name": "stdout",
          "text": [
            "Saving kaggle.json to kaggle.json\n"
          ]
        },
        {
          "output_type": "execute_result",
          "data": {
            "text/plain": [
              "{'kaggle.json': b'{\"username\":\"ditogogua\",\"key\":\"65a423eed3ea99d51a9c7348b802e85b\"}'}"
            ]
          },
          "metadata": {},
          "execution_count": 3
        }
      ]
    },
    {
      "cell_type": "code",
      "source": [
        "!mkdir -p ~/.kaggle\n",
        "!cp kaggle.json ~/.kaggle/\n",
        "!chmod 600 ~/.kaggle/kaggle.json"
      ],
      "metadata": {
        "id": "VQ_ZVE_iOCm1"
      },
      "execution_count": 4,
      "outputs": []
    },
    {
      "cell_type": "code",
      "source": [
        "!kaggle competitions list | head -5"
      ],
      "metadata": {
        "colab": {
          "base_uri": "https://localhost:8080/"
        },
        "id": "ZwwyqDgtOFHw",
        "outputId": "98d47a3b-7521-418c-cdac-a320f85a4418"
      },
      "execution_count": 5,
      "outputs": [
        {
          "output_type": "stream",
          "name": "stdout",
          "text": [
            "ref                                                                              deadline             category                reward  teamCount  userHasEntered  \n",
            "-------------------------------------------------------------------------------  -------------------  ---------------  -------------  ---------  --------------  \n",
            "https://www.kaggle.com/competitions/arc-prize-2025                               2025-11-03 23:59:00  Featured         1,000,000 Usd        643           False  \n",
            "https://www.kaggle.com/competitions/google-gemma-3n-hackathon                    2025-08-06 23:59:00  Featured           150,000 Usd          0           False  \n",
            "https://www.kaggle.com/competitions/make-data-count-finding-data-references      2025-09-09 23:59:00  Research           100,000 Usd        575           False  \n"
          ]
        }
      ]
    },
    {
      "cell_type": "code",
      "source": [
        "!kaggle competitions download -c walmart-recruiting-store-sales-forecasting"
      ],
      "metadata": {
        "colab": {
          "base_uri": "https://localhost:8080/"
        },
        "id": "GcCoC5OnOPHT",
        "outputId": "8e30fb39-fc50-4d76-9f12-854bb02f6d77"
      },
      "execution_count": 6,
      "outputs": [
        {
          "output_type": "stream",
          "name": "stdout",
          "text": [
            "Downloading walmart-recruiting-store-sales-forecasting.zip to /content\n",
            "\r  0% 0.00/2.70M [00:00<?, ?B/s]\n",
            "\r100% 2.70M/2.70M [00:00<00:00, 224MB/s]\n"
          ]
        }
      ]
    },
    {
      "cell_type": "code",
      "source": [
        "with zipfile.ZipFile('walmart-recruiting-store-sales-forecasting.zip', 'r') as zip_ref:\n",
        "    zip_ref.extractall('walmart_data')\n",
        "\n",
        "print(\"Extracted files:\")\n",
        "for root, dirs, files in os.walk('walmart_data'):\n",
        "    for file in files:\n",
        "        print(os.path.join(root, file))"
      ],
      "metadata": {
        "colab": {
          "base_uri": "https://localhost:8080/"
        },
        "id": "1tbsccP2OSFw",
        "outputId": "fed01eba-095f-4ab5-b645-4b9615ab4f6e"
      },
      "execution_count": 7,
      "outputs": [
        {
          "output_type": "stream",
          "name": "stdout",
          "text": [
            "Extracted files:\n",
            "walmart_data/stores.csv\n",
            "walmart_data/sampleSubmission.csv.zip\n",
            "walmart_data/train.csv.zip\n",
            "walmart_data/features.csv.zip\n",
            "walmart_data/test.csv.zip\n"
          ]
        }
      ]
    },
    {
      "cell_type": "code",
      "source": [
        "print(\"\\nExtracting individual CSV files...\")\n",
        "csv_files = ['train.csv.zip', 'test.csv.zip', 'features.csv.zip', 'stores.csv', 'sampleSubmission.csv.zip']"
      ],
      "metadata": {
        "colab": {
          "base_uri": "https://localhost:8080/"
        },
        "id": "JUtK1IG63BzH",
        "outputId": "f57d8834-19b5-40c6-cbc2-6ede15bc5dce"
      },
      "execution_count": 8,
      "outputs": [
        {
          "output_type": "stream",
          "name": "stdout",
          "text": [
            "\n",
            "Extracting individual CSV files...\n"
          ]
        }
      ]
    },
    {
      "cell_type": "code",
      "source": [
        "for file in csv_files:\n",
        "    file_path = os.path.join('walmart_data', file)\n",
        "    if os.path.exists(file_path) and file.endswith('.zip'):\n",
        "        print(f\"Extracting {file}...\")\n",
        "        with zipfile.ZipFile(file_path, 'r') as zip_ref:\n",
        "            zip_ref.extractall('walmart_data')\n",
        "    elif os.path.exists(file_path):\n",
        "        print(f\"{file} already extracted or not zipped\")"
      ],
      "metadata": {
        "colab": {
          "base_uri": "https://localhost:8080/"
        },
        "id": "7q660IxI3Mfx",
        "outputId": "aa29b5f8-3387-4de7-a5d2-9836348b18ba"
      },
      "execution_count": 9,
      "outputs": [
        {
          "output_type": "stream",
          "name": "stdout",
          "text": [
            "Extracting train.csv.zip...\n",
            "Extracting test.csv.zip...\n",
            "Extracting features.csv.zip...\n",
            "stores.csv already extracted or not zipped\n",
            "Extracting sampleSubmission.csv.zip...\n"
          ]
        }
      ]
    },
    {
      "cell_type": "code",
      "source": [
        "print(\"\\nFinal extracted files:\")\n",
        "for root, dirs, files in os.walk('walmart_data'):\n",
        "    for file in files:\n",
        "        if file.endswith('.csv'):\n",
        "            print(os.path.join(root, file))"
      ],
      "metadata": {
        "colab": {
          "base_uri": "https://localhost:8080/"
        },
        "id": "FmJNE3ul3Rva",
        "outputId": "14a951e0-30dd-4774-c89d-b19b4f86aace"
      },
      "execution_count": 10,
      "outputs": [
        {
          "output_type": "stream",
          "name": "stdout",
          "text": [
            "\n",
            "Final extracted files:\n",
            "walmart_data/train.csv\n",
            "walmart_data/sampleSubmission.csv\n",
            "walmart_data/stores.csv\n",
            "walmart_data/test.csv\n",
            "walmart_data/features.csv\n"
          ]
        }
      ]
    },
    {
      "cell_type": "code",
      "source": [
        "import os\n",
        "import warnings\n",
        "from datetime import datetime\n",
        "import numpy as np\n",
        "import pandas as pd\n",
        "import lightgbm as lgb\n",
        "from sklearn.metrics import mean_squared_error, mean_absolute_error\n",
        "from sklearn.preprocessing import LabelEncoder\n",
        "import matplotlib.pyplot as plt\n",
        "import seaborn as sns\n",
        "\n",
        "warnings.filterwarnings(\"ignore\")\n",
        "\n",
        "def calculate_wmae(y_true, y_pred, weights=None):\n",
        "    \"\"\"\n",
        "    Calculate Weighted Mean Absolute Error (WMAE)\n",
        "\n",
        "    Args:\n",
        "        y_true: True values\n",
        "        y_pred: Predicted values\n",
        "        weights: Weights for each sample (optional)\n",
        "\n",
        "    Returns:\n",
        "        WMAE value\n",
        "    \"\"\"\n",
        "    if weights is None:\n",
        "        weights = np.ones(len(y_true))\n",
        "\n",
        "    wmae = np.sum(weights * np.abs(y_true - y_pred)) / np.sum(weights)\n",
        "    return wmae\n"
      ],
      "metadata": {
        "id": "5EUaZhuKlrbz"
      },
      "execution_count": 11,
      "outputs": []
    },
    {
      "cell_type": "code",
      "source": [
        "def create_advanced_features(df_input):\n",
        "    \"\"\"Create advanced time-based and lag features\"\"\"\n",
        "    df_input['Year'] = df_input['Date'].dt.year\n",
        "    df_input['Month'] = df_input['Date'].dt.month\n",
        "    df_input['Week'] = df_input['Date'].dt.isocalendar().week.astype(int)\n",
        "    df_input['Day'] = df_input['Date'].dt.day\n",
        "    df_input['DayOfWeek'] = df_input['Date'].dt.dayofweek\n",
        "    df_input['DayOfYear'] = df_input['Date'].dt.dayofyear\n",
        "\n",
        "    df_input['Quarter'] = df_input['Date'].dt.quarter\n",
        "    df_input['WeekOfYear'] = df_input['Date'].dt.isocalendar().week.astype(int)\n",
        "    df_input['IsWeekend'] = df_input['DayOfWeek'].isin([5, 6]).astype(int)\n",
        "    df_input['IsMonthStart'] = df_input['Date'].dt.is_month_start.astype(int)\n",
        "    df_input['IsMonthEnd'] = df_input['Date'].dt.is_month_end.astype(int)\n",
        "\n",
        "    df_input['IsHoliday'] = df_input['IsHoliday'].astype(int)\n",
        "\n",
        "    df_input['Season'] = pd.cut(df_input['Month'], bins=[0, 3, 6, 9, 12], labels=[1, 2, 3, 4])\n",
        "    df_input['Season'] = df_input['Season'].astype(int)\n",
        "\n",
        "    df_input['WeekOfMonth'] = ((df_input['Day'] - 1) // 7) + 1\n",
        "\n",
        "    df_input['DaysSinceYearStart'] = df_input['Date'].dt.dayofyear\n",
        "\n",
        "    df_input['DaysUntilYearEnd'] = 365 - df_input['Date'].dt.dayofyear\n",
        "\n",
        "    df_input['DaysFromMonthEnd'] = df_input['Date'].dt.days_in_month - df_input['Day']\n",
        "\n",
        "    df_input['DaysFromMonthStart'] = df_input['Day'] - 1\n",
        "\n",
        "    return df_input"
      ],
      "metadata": {
        "id": "lyLVYceilu_r"
      },
      "execution_count": 12,
      "outputs": []
    },
    {
      "cell_type": "code",
      "source": [
        "def create_lag_features(df, group_cols, target_col, lags=[1, 2, 3, 4, 12]):\n",
        "    \"\"\"Create lag features for time series\"\"\"\n",
        "    df_lagged = df.copy()\n",
        "\n",
        "    for lag in lags:\n",
        "        df_lagged[f'{target_col}_lag_{lag}'] = df.groupby(group_cols)[target_col].shift(lag)\n",
        "\n",
        "    return df_lagged"
      ],
      "metadata": {
        "id": "r8OuNRj9lxvu"
      },
      "execution_count": 13,
      "outputs": []
    },
    {
      "cell_type": "code",
      "source": [
        "def create_rolling_features(df, group_cols, target_col, windows=[2, 3, 4, 8]):\n",
        "    \"\"\"Create rolling window features\"\"\"\n",
        "    df_rolling = df.copy()\n",
        "\n",
        "    for window in windows:\n",
        "        df_rolling[f'{target_col}_rolling_mean_{window}'] = df.groupby(group_cols)[target_col].transform(\n",
        "            lambda x: x.rolling(window=window, min_periods=1).mean()\n",
        "        )\n",
        "        df_rolling[f'{target_col}_rolling_std_{window}'] = df.groupby(group_cols)[target_col].transform(\n",
        "            lambda x: x.rolling(window=window, min_periods=1).std()\n",
        "        )\n",
        "        df_rolling[f'{target_col}_rolling_min_{window}'] = df.groupby(group_cols)[target_col].transform(\n",
        "            lambda x: x.rolling(window=window, min_periods=1).min()\n",
        "        )\n",
        "        df_rolling[f'{target_col}_rolling_max_{window}'] = df.groupby(group_cols)[target_col].transform(\n",
        "            lambda x: x.rolling(window=window, min_periods=1).max()\n",
        "        )\n",
        "\n",
        "    return df_rolling"
      ],
      "metadata": {
        "id": "vUul4Fd8lyog"
      },
      "execution_count": 14,
      "outputs": []
    },
    {
      "cell_type": "code",
      "source": [
        "def preprocess_data(df_train, df_test, df_features, df_stores):\n",
        "    \"\"\"Preprocess data with advanced feature engineering\"\"\"\n",
        "\n",
        "    df = df_train.merge(df_stores, on='Store', how='left')\n",
        "\n",
        "    common_cols_to_drop = [\n",
        "        'Temperature', 'Fuel_Price', 'CPI', 'Unemployment',\n",
        "        'MarkDown1', 'MarkDown2', 'MarkDown3', 'MarkDown4', 'MarkDown5',\n",
        "        'IsHoliday'\n",
        "    ]\n",
        "    cols_to_drop = [col for col in common_cols_to_drop if col in df.columns]\n",
        "    if cols_to_drop:\n",
        "        df = df.drop(columns=cols_to_drop)\n",
        "\n",
        "    df = df.merge(df_features, on=['Store', 'Date'], how='left')\n",
        "\n",
        "    numeric_cols = ['Temperature', 'Fuel_Price', 'CPI', 'Unemployment',\n",
        "                   'MarkDown1', 'MarkDown2', 'MarkDown3', 'MarkDown4', 'MarkDown5']\n",
        "\n",
        "    for col in numeric_cols:\n",
        "        if col in df.columns:\n",
        "            df[col] = df.groupby('Store')[col].fillna(method='ffill').fillna(method='bfill')\n",
        "            df[col] = df[col].fillna(df[col].median())\n",
        "\n",
        "    if 'IsHoliday' in df.columns:\n",
        "        df['IsHoliday'] = df['IsHoliday'].astype(int)\n",
        "    else:\n",
        "        df['IsHoliday'] = 0\n",
        "\n",
        "    df['Weekly_Sales'] = df['Weekly_Sales'].apply(lambda x: max(0, x))\n",
        "\n",
        "    df = df.sort_values(['Store', 'Dept', 'Date'])\n",
        "\n",
        "    df = create_advanced_features(df)\n",
        "\n",
        "    df = create_lag_features(df, ['Store', 'Dept'], 'Weekly_Sales', lags=[1, 2, 3, 4, 12, 52])\n",
        "\n",
        "    df = create_rolling_features(df, ['Store', 'Dept'], 'Weekly_Sales', windows=[2, 3, 4, 8, 12])\n",
        "\n",
        "    df['Store_Dept_Mean'] = df.groupby(['Store', 'Dept'])['Weekly_Sales'].transform('mean')\n",
        "    df['Store_Dept_Std'] = df.groupby(['Store', 'Dept'])['Weekly_Sales'].transform('std')\n",
        "    df['Store_Dept_Min'] = df.groupby(['Store', 'Dept'])['Weekly_Sales'].transform('min')\n",
        "    df['Store_Dept_Max'] = df.groupby(['Store', 'Dept'])['Weekly_Sales'].transform('max')\n",
        "\n",
        "    df['Store_Mean'] = df.groupby('Store')['Weekly_Sales'].transform('mean')\n",
        "    df['Store_Std'] = df.groupby('Store')['Weekly_Sales'].transform('std')\n",
        "\n",
        "    df['Dept_Mean'] = df.groupby('Dept')['Weekly_Sales'].transform('mean')\n",
        "    df['Dept_Std'] = df.groupby('Dept')['Weekly_Sales'].transform('std')\n",
        "\n",
        "    df['Size_Temperature'] = df['Size'] * df['Temperature']\n",
        "    df['Size_Fuel_Price'] = df['Size'] * df['Fuel_Price']\n",
        "    df['Temperature_Fuel_Price'] = df['Temperature'] * df['Fuel_Price']\n",
        "\n",
        "    markdown_cols = ['MarkDown1', 'MarkDown2', 'MarkDown3', 'MarkDown4', 'MarkDown5']\n",
        "    df['MarkDown_Sum'] = df[markdown_cols].sum(axis=1)\n",
        "    df['MarkDown_Mean'] = df[markdown_cols].mean(axis=1)\n",
        "    df['MarkDown_Std'] = df[markdown_cols].std(axis=1)\n",
        "\n",
        "    df = pd.get_dummies(df, columns=['Type'], prefix='Type', drop_first=True)\n",
        "\n",
        "    return df"
      ],
      "metadata": {
        "id": "CxLXWXpGmNNR"
      },
      "execution_count": 15,
      "outputs": []
    },
    {
      "cell_type": "code",
      "source": [
        "def prepare_test_data(df_test, df_features, df_stores, X_train_columns):\n",
        "    \"\"\"Prepare test data with same preprocessing as training data\"\"\"\n",
        "\n",
        "    df_test_merged = df_test.merge(df_stores, on='Store', how='left')\n",
        "\n",
        "    common_cols_to_drop = [\n",
        "        'Temperature', 'Fuel_Price', 'CPI', 'Unemployment',\n",
        "        'MarkDown1', 'MarkDown2', 'MarkDown3', 'MarkDown4', 'MarkDown5',\n",
        "        'IsHoliday'\n",
        "    ]\n",
        "    cols_to_drop = [col for col in common_cols_to_drop if col in df_test_merged.columns]\n",
        "    if cols_to_drop:\n",
        "        df_test_merged = df_test_merged.drop(columns=cols_to_drop)\n",
        "\n",
        "    df_test_final = df_test_merged.merge(df_features, on=['Store', 'Date'], how='left')\n",
        "\n",
        "    numeric_cols = ['Temperature', 'Fuel_Price', 'CPI', 'Unemployment',\n",
        "                   'MarkDown1', 'MarkDown2', 'MarkDown3', 'MarkDown4', 'MarkDown5']\n",
        "    for col in numeric_cols:\n",
        "        if col in df_test_final.columns:\n",
        "            df_test_final[col] = df_test_final[col].fillna(df_test_final[col].median())\n",
        "\n",
        "    if 'IsHoliday' in df_test_final.columns:\n",
        "        df_test_final['IsHoliday'] = df_test_final['IsHoliday'].astype(int)\n",
        "    else:\n",
        "        df_test_final['IsHoliday'] = 0\n",
        "\n",
        "    df_test_final = create_advanced_features(df_test_final)\n",
        "\n",
        "    df_test_final['Size_Temperature'] = df_test_final['Size'] * df_test_final['Temperature']\n",
        "    df_test_final['Size_Fuel_Price'] = df_test_final['Size'] * df_test_final['Fuel_Price']\n",
        "    df_test_final['Temperature_Fuel_Price'] = df_test_final['Temperature'] * df_test_final['Fuel_Price']\n",
        "\n",
        "    markdown_cols = ['MarkDown1', 'MarkDown2', 'MarkDown3', 'MarkDown4', 'MarkDown5']\n",
        "    df_test_final['MarkDown_Sum'] = df_test_final[markdown_cols].sum(axis=1)\n",
        "    df_test_final['MarkDown_Mean'] = df_test_final[markdown_cols].mean(axis=1)\n",
        "    df_test_final['MarkDown_Std'] = df_test_final[markdown_cols].std(axis=1)\n",
        "\n",
        "    if 'Type' in df_test_final.columns:\n",
        "        df_test_final = pd.get_dummies(df_test_final, columns=['Type'], prefix='Type', drop_first=True)\n",
        "\n",
        "    X_test = df_test_final.reindex(columns=X_train_columns, fill_value=0)\n",
        "\n",
        "    if X_test.isnull().sum().sum() > 0:\n",
        "        X_test = X_test.fillna(0)\n",
        "\n",
        "    return X_test\n"
      ],
      "metadata": {
        "id": "Lq3rbMtHmWGi"
      },
      "execution_count": 16,
      "outputs": []
    },
    {
      "cell_type": "code",
      "source": [
        "def main():\n",
        "    print(\"Loading data...\")\n",
        "    data_base_path = 'walmart_data/'\n",
        "\n",
        "    try:\n",
        "        df_train = pd.read_csv(f'{data_base_path}train.csv', parse_dates=['Date'])\n",
        "        df_test = pd.read_csv(f'{data_base_path}test.csv', parse_dates=['Date'])\n",
        "        df_features = pd.read_csv(f'{data_base_path}features.csv', parse_dates=['Date'])\n",
        "        df_stores = pd.read_csv(f'{data_base_path}stores.csv')\n",
        "        print(\"All dataframes loaded successfully.\")\n",
        "    except FileNotFoundError as e:\n",
        "        print(f\"Error loading data: {e}\")\n",
        "        return\n",
        "\n",
        "    print(\"Preprocessing training data...\")\n",
        "    df = preprocess_data(df_train, df_test, df_features, df_stores)\n",
        "\n",
        "    base_features = [\n",
        "        'Store', 'Dept', 'Year', 'Month', 'Week', 'Day', 'DayOfWeek', 'DayOfYear',\n",
        "        'Quarter', 'WeekOfYear', 'IsWeekend', 'IsMonthStart', 'IsMonthEnd',\n",
        "        'IsHoliday', 'Temperature', 'Fuel_Price', 'CPI', 'Unemployment',\n",
        "        'Size', 'MarkDown1', 'MarkDown2', 'MarkDown3', 'MarkDown4', 'MarkDown5',\n",
        "        'Season', 'WeekOfMonth', 'DaysSinceYearStart', 'DaysUntilYearEnd',\n",
        "        'DaysFromMonthEnd', 'DaysFromMonthStart', 'Store_Dept_Mean', 'Store_Dept_Std',\n",
        "        'Store_Dept_Min', 'Store_Dept_Max', 'Store_Mean', 'Store_Std',\n",
        "        'Dept_Mean', 'Dept_Std', 'Size_Temperature', 'Size_Fuel_Price',\n",
        "        'Temperature_Fuel_Price', 'MarkDown_Sum', 'MarkDown_Mean', 'MarkDown_Std'\n",
        "    ]\n",
        "\n",
        "    lag_features = [col for col in df.columns if 'Weekly_Sales_lag_' in col]\n",
        "\n",
        "    rolling_features = [col for col in df.columns if 'Weekly_Sales_rolling_' in col]\n",
        "\n",
        "    type_columns = [col for col in df.columns if 'Type_' in col]\n",
        "\n",
        "    features = base_features + lag_features + rolling_features + type_columns\n",
        "    target = 'Weekly_Sales'\n",
        "\n",
        "    final_features = [f for f in features if f in df.columns]\n",
        "    print(f\"Final features: {len(final_features)}\")\n",
        "\n",
        "    df = df.sort_values('Date')\n",
        "    split_date = pd.to_datetime('2011-12-31')\n",
        "\n",
        "    X_train = df[df['Date'] <= split_date][final_features]\n",
        "    y_train = df[df['Date'] <= split_date][target]\n",
        "    X_valid = df[df['Date'] > split_date][final_features]\n",
        "    y_valid = df[df['Date'] > split_date][target]\n",
        "\n",
        "    print(f\"Train set size: {len(X_train)}\")\n",
        "    print(f\"Validation set size: {len(X_valid)}\")\n",
        "\n",
        "    params = {\n",
        "        'objective': 'regression_l1',\n",
        "        'metric': 'rmse',\n",
        "        'n_estimators': 3000,\n",
        "        'learning_rate': 0.01,\n",
        "        'num_leaves': 63,\n",
        "        'max_depth': 12,\n",
        "        'min_child_samples': 15,\n",
        "        'subsample': 0.85,\n",
        "        'colsample_bytree': 0.85,\n",
        "        'random_state': 42,\n",
        "        'n_jobs': -1,\n",
        "        'reg_alpha': 0.05,\n",
        "        'reg_lambda': 0.05,\n",
        "        'verbose': -1,\n",
        "        'min_split_gain': 0.1,\n",
        "        'min_child_weight': 1\n",
        "    }\n",
        "\n",
        "    print(\"Training optimized LightGBM model...\")\n",
        "\n",
        "    model = lgb.LGBMRegressor(**params)\n",
        "\n",
        "    callbacks = [\n",
        "        lgb.early_stopping(150, verbose=False),\n",
        "        lgb.log_evaluation(period=200)\n",
        "    ]\n",
        "\n",
        "    model.fit(X_train, y_train,\n",
        "              eval_set=[(X_valid, y_valid)],\n",
        "              eval_metric='rmse',\n",
        "              callbacks=callbacks)\n",
        "\n",
        "    preds_val = model.predict(X_valid)\n",
        "\n",
        "    val_rmse = np.sqrt(mean_squared_error(y_valid, preds_val))\n",
        "    val_mae = mean_absolute_error(y_valid, preds_val)\n",
        "\n",
        "    valid_data = df[df['Date'] > split_date].copy()\n",
        "    valid_data['pred'] = preds_val\n",
        "    valid_data['actual'] = y_valid\n",
        "\n",
        "    print(f\"Actual sales range: {valid_data['actual'].min():.2f} to {valid_data['actual'].max():.2f}\")\n",
        "    print(f\"Predicted sales range: {valid_data['pred'].min():.2f} to {valid_data['pred'].max():.2f}\")\n",
        "    print(f\"Number of holiday weeks: {valid_data['IsHoliday'].sum()}\")\n",
        "    print(f\"Total validation samples: {len(valid_data)}\")\n",
        "\n",
        "    holiday_weights = np.where(valid_data['IsHoliday'] == 1, 5, 1)\n",
        "\n",
        "    weighted_errors = holiday_weights * np.abs(valid_data['actual'] - valid_data['pred'])\n",
        "    val_wmae = weighted_errors.sum() / holiday_weights.sum()\n",
        "\n",
        "    print(f\"Weighted errors sum: {weighted_errors.sum():.2f}\")\n",
        "    print(f\"Weights sum: {holiday_weights.sum()}\")\n",
        "    print(f\"Manual WMAE: {val_wmae:.2f}\")\n",
        "\n",
        "    val_wmae_func = calculate_wmae(valid_data['actual'], valid_data['pred'], holiday_weights)\n",
        "    print(f\"Function WMAE: {val_wmae_func:.2f}\")\n",
        "\n",
        "    print(f\"\\nValidation Metrics:\")\n",
        "    print(f\"RMSE: {val_rmse:.2f}\")\n",
        "    print(f\"MAE: {val_mae:.2f}\")\n",
        "    print(f\"WMAE: {val_wmae:.2f}\")\n",
        "    print(f\"Best iteration: {model.best_iteration_}\")\n",
        "\n",
        "    feature_importance = pd.DataFrame({\n",
        "        'feature': final_features,\n",
        "        'importance': model.feature_importances_\n",
        "    }).sort_values('importance', ascending=False)\n",
        "\n",
        "    print(f\"\\nTop 10 Most Important Features:\")\n",
        "    print(feature_importance.head(10))\n",
        "\n",
        "    feature_importance.to_csv('feature_importance.csv', index=False)\n",
        "    print(\"Feature importance saved to 'feature_importance.csv'\")\n",
        "\n",
        "    print(\"\\nPreparing test data...\")\n",
        "    X_test = prepare_test_data(df_test, df_features, df_stores, X_train.columns)\n",
        "\n",
        "    preds_test = model.predict(X_test)\n",
        "\n",
        "    submission_df = pd.DataFrame({\n",
        "        'Id': df_test['Store'].astype(str) + '_' + df_test['Dept'].astype(str) + '_' + df_test['Date'].dt.strftime('%Y-%m-%d'),\n",
        "        'Weekly_Sales': preds_test\n",
        "    })\n",
        "\n",
        "    submission_df['Weekly_Sales'] = submission_df['Weekly_Sales'].apply(lambda x: max(0, x))\n",
        "\n",
        "    submission_file_path = 'submission_lightgbm_wmae_optimized.csv'\n",
        "    submission_df.to_csv(submission_file_path, index=False)\n",
        "    print(f\"Submission file saved: {submission_file_path}\")\n",
        "\n",
        "    print(\"Experiment completed successfully!\")\n",
        "\n",
        "    plt.figure(figsize=(12, 8))\n",
        "    top_features = feature_importance.head(15)\n",
        "    plt.barh(range(len(top_features)), top_features['importance'])\n",
        "    plt.yticks(range(len(top_features)), top_features['feature'])\n",
        "    plt.xlabel('Feature Importance')\n",
        "    plt.title('Top 15 Feature Importances')\n",
        "    plt.tight_layout()\n",
        "    plt.savefig('feature_importance.png')\n",
        "    plt.show()\n",
        "\n",
        "if __name__ == \"__main__\":\n",
        "    main()"
      ],
      "metadata": {
        "colab": {
          "base_uri": "https://localhost:8080/",
          "height": 1000
        },
        "id": "oBoOMzY1mxMr",
        "outputId": "f956cd49-e53e-4c81-e3b9-8c8a702838f9"
      },
      "execution_count": 17,
      "outputs": [
        {
          "output_type": "stream",
          "name": "stdout",
          "text": [
            "Loading data...\n",
            "All dataframes loaded successfully.\n",
            "Preprocessing training data...\n",
            "Final features: 72\n",
            "Train set size: 294132\n",
            "Validation set size: 127438\n",
            "Training optimized LightGBM model...\n",
            "[200]\tvalid_0's rmse: 11613\n",
            "[400]\tvalid_0's rmse: 5106.51\n",
            "[600]\tvalid_0's rmse: 1938.54\n",
            "[800]\tvalid_0's rmse: 1191.74\n",
            "[1000]\tvalid_0's rmse: 1072.14\n",
            "[1200]\tvalid_0's rmse: 1020.26\n",
            "[1400]\tvalid_0's rmse: 977.287\n",
            "[1600]\tvalid_0's rmse: 944.532\n",
            "[1800]\tvalid_0's rmse: 928.655\n",
            "[2000]\tvalid_0's rmse: 922.012\n",
            "[2200]\tvalid_0's rmse: 911.264\n",
            "[2400]\tvalid_0's rmse: 900.263\n",
            "[2600]\tvalid_0's rmse: 892.623\n",
            "[2800]\tvalid_0's rmse: 888.853\n",
            "[3000]\tvalid_0's rmse: 884.495\n",
            "Actual sales range: 0.00 to 233140.32\n",
            "Predicted sales range: -67.34 to 192924.87\n",
            "Number of holiday weeks: 5967\n",
            "Total validation samples: 127438\n",
            "Weighted errors sum: 29658550.96\n",
            "Weights sum: 151306\n",
            "Manual WMAE: 196.02\n",
            "Function WMAE: 196.02\n",
            "\n",
            "Validation Metrics:\n",
            "RMSE: 884.49\n",
            "MAE: 186.35\n",
            "WMAE: 196.02\n",
            "Best iteration: 2998\n",
            "\n",
            "Top 10 Most Important Features:\n",
            "                        feature  importance\n",
            "44           Weekly_Sales_lag_1       37736\n",
            "52   Weekly_Sales_rolling_min_2       22916\n",
            "53   Weekly_Sales_rolling_max_2       18702\n",
            "51   Weekly_Sales_rolling_std_2       18008\n",
            "50  Weekly_Sales_rolling_mean_2       14896\n",
            "45           Weekly_Sales_lag_2        9792\n",
            "56   Weekly_Sales_rolling_min_3        7148\n",
            "55   Weekly_Sales_rolling_std_3        5863\n",
            "4                          Week        5741\n",
            "28             DaysFromMonthEnd        4106\n",
            "Feature importance saved to 'feature_importance.csv'\n",
            "\n",
            "Preparing test data...\n",
            "Submission file saved: submission_lightgbm_wmae_optimized.csv\n",
            "Experiment completed successfully!\n"
          ]
        },
        {
          "output_type": "display_data",
          "data": {
            "text/plain": [
              "<Figure size 1200x800 with 1 Axes>"
            ],
            "image/png": "[encoded data removed]"
          },
          "metadata": {}
        }
      ]
    },
    {
      "cell_type": "code",
      "source": [
        "!pip install mlflow"
      ],
      "metadata": {
        "colab": {
          "base_uri": "https://localhost:8080/"
        },
        "id": "NKoeG8Ei20kS",
        "outputId": "491a2c85-15bb-42e8-8f0f-20c8d9a24082"
      },
      "execution_count": 18,
      "outputs": [
        {
          "output_type": "stream",
          "name": "stdout",
          "text": [
            "Collecting mlflow\n",
            "  Downloading mlflow-3.1.1-py3-none-any.whl.metadata (29 kB)\n",
            "Collecting mlflow-skinny==3.1.1 (from mlflow)\n",
            "  Downloading mlflow_skinny-3.1.1-py3-none-any.whl.metadata (30 kB)\n",
            "Requirement already satisfied: Flask<4 in /usr/local/lib/python3.11/dist-packages (from mlflow) (3.1.1)\n",
            "Collecting alembic!=1.10.0,<2 (from mlflow)\n",
            "  Downloading alembic-1.16.4-py3-none-any.whl.metadata (7.3 kB)\n",
            "Collecting docker<8,>=4.0.0 (from mlflow)\n",
            "  Downloading docker-7.1.0-py3-none-any.whl.metadata (3.8 kB)\n",
            "Collecting graphene<4 (from mlflow)\n",
            "  Downloading graphene-3.4.3-py2.py3-none-any.whl.metadata (6.9 kB)\n",
            "Collecting gunicorn<24 (from mlflow)\n",
            "  Downloading gunicorn-23.0.0-py3-none-any.whl.metadata (4.4 kB)\n",
            "Requirement already satisfied: matplotlib<4 in /usr/local/lib/python3.11/dist-packages (from mlflow) (3.10.0)\n",
            "Requirement already satisfied: numpy<3 in /usr/local/lib/python3.11/dist-packages (from mlflow) (2.0.2)\n",
            "Requirement already satisfied: pandas<3 in /usr/local/lib/python3.11/dist-packages (from mlflow) (2.2.2)\n",
            "Requirement already satisfied: pyarrow<21,>=4.0.0 in /usr/local/lib/python3.11/dist-packages (from mlflow) (18.1.0)\n",
            "Requirement already satisfied: scikit-learn<2 in /usr/local/lib/python3.11/dist-packages (from mlflow) (1.6.1)\n",
            "Requirement already satisfied: scipy<2 in /usr/local/lib/python3.11/dist-packages (from mlflow) (1.15.3)\n",
            "Requirement already satisfied: sqlalchemy<3,>=1.4.0 in /usr/local/lib/python3.11/dist-packages (from mlflow) (2.0.41)\n",
            "Requirement already satisfied: cachetools<7,>=5.0.0 in /usr/local/lib/python3.11/dist-packages (from mlflow-skinny==3.1.1->mlflow) (5.5.2)\n",
            "Requirement already satisfied: click<9,>=7.0 in /usr/local/lib/python3.11/dist-packages (from mlflow-skinny==3.1.1->mlflow) (8.2.1)\n",
            "Requirement already satisfied: cloudpickle<4 in /usr/local/lib/python3.11/dist-packages (from mlflow-skinny==3.1.1->mlflow) (3.1.1)\n",
            "Collecting databricks-sdk<1,>=0.20.0 (from mlflow-skinny==3.1.1->mlflow)\n",
            "  Downloading databricks_sdk-0.58.0-py3-none-any.whl.metadata (39 kB)\n",
            "Requirement already satisfied: fastapi<1 in /usr/local/lib/python3.11/dist-packages (from mlflow-skinny==3.1.1->mlflow) (0.116.0)\n",
            "Requirement already satisfied: gitpython<4,>=3.1.9 in /usr/local/lib/python3.11/dist-packages (from mlflow-skinny==3.1.1->mlflow) (3.1.44)\n",
            "Requirement already satisfied: importlib_metadata!=4.7.0,<9,>=3.7.0 in /usr/local/lib/python3.11/dist-packages (from mlflow-skinny==3.1.1->mlflow) (8.7.0)\n",
            "Collecting opentelemetry-api<3,>=1.9.0 (from mlflow-skinny==3.1.1->mlflow)\n",
            "  Downloading opentelemetry_api-1.35.0-py3-none-any.whl.metadata (1.5 kB)\n",
            "Collecting opentelemetry-sdk<3,>=1.9.0 (from mlflow-skinny==3.1.1->mlflow)\n",
            "  Downloading opentelemetry_sdk-1.35.0-py3-none-any.whl.metadata (1.5 kB)\n",
            "Requirement already satisfied: packaging<26 in /usr/local/lib/python3.11/dist-packages (from mlflow-skinny==3.1.1->mlflow) (24.2)\n",
            "Requirement already satisfied: protobuf<7,>=3.12.0 in /usr/local/lib/python3.11/dist-packages (from mlflow-skinny==3.1.1->mlflow) (5.29.5)\n",
            "Requirement already satisfied: pydantic<3,>=1.10.8 in /usr/local/lib/python3.11/dist-packages (from mlflow-skinny==3.1.1->mlflow) (2.11.7)\n",
            "Requirement already satisfied: pyyaml<7,>=5.1 in /usr/local/lib/python3.11/dist-packages (from mlflow-skinny==3.1.1->mlflow) (6.0.2)\n",
            "Requirement already satisfied: requests<3,>=2.17.3 in /usr/local/lib/python3.11/dist-packages (from mlflow-skinny==3.1.1->mlflow) (2.32.3)\n",
            "Requirement already satisfied: sqlparse<1,>=0.4.0 in /usr/local/lib/python3.11/dist-packages (from mlflow-skinny==3.1.1->mlflow) (0.5.3)\n",
            "Requirement already satisfied: typing-extensions<5,>=4.0.0 in /usr/local/lib/python3.11/dist-packages (from mlflow-skinny==3.1.1->mlflow) (4.14.1)\n",
            "Requirement already satisfied: uvicorn<1 in /usr/local/lib/python3.11/dist-packages (from mlflow-skinny==3.1.1->mlflow) (0.35.0)\n",
            "Requirement already satisfied: Mako in /usr/lib/python3/dist-packages (from alembic!=1.10.0,<2->mlflow) (1.1.3)\n",
            "Requirement already satisfied: urllib3>=1.26.0 in /usr/local/lib/python3.11/dist-packages (from docker<8,>=4.0.0->mlflow) (2.4.0)\n",
            "Requirement already satisfied: blinker>=1.9.0 in /usr/local/lib/python3.11/dist-packages (from Flask<4->mlflow) (1.9.0)\n",
            "Requirement already satisfied: itsdangerous>=2.2.0 in /usr/local/lib/python3.11/dist-packages (from Flask<4->mlflow) (2.2.0)\n",
            "Requirement already satisfied: jinja2>=3.1.2 in /usr/local/lib/python3.11/dist-packages (from Flask<4->mlflow) (3.1.6)\n",
            "Requirement already satisfied: markupsafe>=2.1.1 in /usr/local/lib/python3.11/dist-packages (from Flask<4->mlflow) (3.0.2)\n",
            "Requirement already satisfied: werkzeug>=3.1.0 in /usr/local/lib/python3.11/dist-packages (from Flask<4->mlflow) (3.1.3)\n",
            "Collecting graphql-core<3.3,>=3.1 (from graphene<4->mlflow)\n",
            "  Downloading graphql_core-3.2.6-py3-none-any.whl.metadata (11 kB)\n",
            "Collecting graphql-relay<3.3,>=3.1 (from graphene<4->mlflow)\n",
            "  Downloading graphql_relay-3.2.0-py3-none-any.whl.metadata (12 kB)\n",
            "Requirement already satisfied: python-dateutil<3,>=2.7.0 in /usr/local/lib/python3.11/dist-packages (from graphene<4->mlflow) (2.9.0.post0)\n",
            "Requirement already satisfied: contourpy>=1.0.1 in /usr/local/lib/python3.11/dist-packages (from matplotlib<4->mlflow) (1.3.2)\n",
            "Requirement already satisfied: cycler>=0.10 in /usr/local/lib/python3.11/dist-packages (from matplotlib<4->mlflow) (0.12.1)\n",
            "Requirement already satisfied: fonttools>=4.22.0 in /usr/local/lib/python3.11/dist-packages (from matplotlib<4->mlflow) (4.58.5)\n",
            "Requirement already satisfied: kiwisolver>=1.3.1 in /usr/local/lib/python3.11/dist-packages (from matplotlib<4->mlflow) (1.4.8)\n",
            "Requirement already satisfied: pillow>=8 in /usr/local/lib/python3.11/dist-packages (from matplotlib<4->mlflow) (11.2.1)\n",
            "Requirement already satisfied: pyparsing>=2.3.1 in /usr/local/lib/python3.11/dist-packages (from matplotlib<4->mlflow) (3.2.3)\n",
            "Requirement already satisfied: pytz>=2020.1 in /usr/local/lib/python3.11/dist-packages (from pandas<3->mlflow) (2025.2)\n",
            "Requirement already satisfied: tzdata>=2022.7 in /usr/local/lib/python3.11/dist-packages (from pandas<3->mlflow) (2025.2)\n",
            "Requirement already satisfied: joblib>=1.2.0 in /usr/local/lib/python3.11/dist-packages (from scikit-learn<2->mlflow) (1.5.1)\n",
            "Requirement already satisfied: threadpoolctl>=3.1.0 in /usr/local/lib/python3.11/dist-packages (from scikit-learn<2->mlflow) (3.6.0)\n",
            "Requirement already satisfied: greenlet>=1 in /usr/local/lib/python3.11/dist-packages (from sqlalchemy<3,>=1.4.0->mlflow) (3.2.3)\n",
            "Requirement already satisfied: google-auth~=2.0 in /usr/local/lib/python3.11/dist-packages (from databricks-sdk<1,>=0.20.0->mlflow-skinny==3.1.1->mlflow) (2.38.0)\n",
            "Requirement already satisfied: starlette<0.47.0,>=0.40.0 in /usr/local/lib/python3.11/dist-packages (from fastapi<1->mlflow-skinny==3.1.1->mlflow) (0.46.2)\n",
            "Requirement already satisfied: gitdb<5,>=4.0.1 in /usr/local/lib/python3.11/dist-packages (from gitpython<4,>=3.1.9->mlflow-skinny==3.1.1->mlflow) (4.0.12)\n",
            "Requirement already satisfied: zipp>=3.20 in /usr/local/lib/python3.11/dist-packages (from importlib_metadata!=4.7.0,<9,>=3.7.0->mlflow-skinny==3.1.1->mlflow) (3.23.0)\n",
            "Collecting opentelemetry-semantic-conventions==0.56b0 (from opentelemetry-sdk<3,>=1.9.0->mlflow-skinny==3.1.1->mlflow)\n",
            "  Downloading opentelemetry_semantic_conventions-0.56b0-py3-none-any.whl.metadata (2.4 kB)\n",
            "Requirement already satisfied: annotated-types>=0.6.0 in /usr/local/lib/python3.11/dist-packages (from pydantic<3,>=1.10.8->mlflow-skinny==3.1.1->mlflow) (0.7.0)\n",
            "Requirement already satisfied: pydantic-core==2.33.2 in /usr/local/lib/python3.11/dist-packages (from pydantic<3,>=1.10.8->mlflow-skinny==3.1.1->mlflow) (2.33.2)\n",
            "Requirement already satisfied: typing-inspection>=0.4.0 in /usr/local/lib/python3.11/dist-packages (from pydantic<3,>=1.10.8->mlflow-skinny==3.1.1->mlflow) (0.4.1)\n",
            "Requirement already satisfied: six>=1.5 in /usr/local/lib/python3.11/dist-packages (from python-dateutil<3,>=2.7.0->graphene<4->mlflow) (1.17.0)\n",
            "Requirement already satisfied: charset-normalizer<4,>=2 in /usr/local/lib/python3.11/dist-packages (from requests<3,>=2.17.3->mlflow-skinny==3.1.1->mlflow) (3.4.2)\n",
            "Requirement already satisfied: idna<4,>=2.5 in /usr/local/lib/python3.11/dist-packages (from requests<3,>=2.17.3->mlflow-skinny==3.1.1->mlflow) (3.10)\n",
            "Requirement already satisfied: certifi>=2017.4.17 in /usr/local/lib/python3.11/dist-packages (from requests<3,>=2.17.3->mlflow-skinny==3.1.1->mlflow) (2025.7.9)\n",
            "Requirement already satisfied: h11>=0.8 in /usr/local/lib/python3.11/dist-packages (from uvicorn<1->mlflow-skinny==3.1.1->mlflow) (0.16.0)\n",
            "Requirement already satisfied: smmap<6,>=3.0.1 in /usr/local/lib/python3.11/dist-packages (from gitdb<5,>=4.0.1->gitpython<4,>=3.1.9->mlflow-skinny==3.1.1->mlflow) (5.0.2)\n",
            "Requirement already satisfied: pyasn1-modules>=0.2.1 in /usr/local/lib/python3.11/dist-packages (from google-auth~=2.0->databricks-sdk<1,>=0.20.0->mlflow-skinny==3.1.1->mlflow) (0.4.2)\n",
            "Requirement already satisfied: rsa<5,>=3.1.4 in /usr/local/lib/python3.11/dist-packages (from google-auth~=2.0->databricks-sdk<1,>=0.20.0->mlflow-skinny==3.1.1->mlflow) (4.9.1)\n",
            "Requirement already satisfied: anyio<5,>=3.6.2 in /usr/local/lib/python3.11/dist-packages (from starlette<0.47.0,>=0.40.0->fastapi<1->mlflow-skinny==3.1.1->mlflow) (4.9.0)\n",
            "Requirement already satisfied: sniffio>=1.1 in /usr/local/lib/python3.11/dist-packages (from anyio<5,>=3.6.2->starlette<0.47.0,>=0.40.0->fastapi<1->mlflow-skinny==3.1.1->mlflow) (1.3.1)\n",
            "Requirement already satisfied: pyasn1<0.7.0,>=0.6.1 in /usr/local/lib/python3.11/dist-packages (from pyasn1-modules>=0.2.1->google-auth~=2.0->databricks-sdk<1,>=0.20.0->mlflow-skinny==3.1.1->mlflow) (0.6.1)\n",
            "Downloading mlflow-3.1.1-py3-none-any.whl (24.7 MB)\n",
            "\u001b[2K   \u001b[90m━━━━━━━━━━━━━━━━━━━━━━━━━━━━━━━━━━━━━━━━\u001b[0m \u001b[32m24.7/24.7 MB\u001b[0m \u001b[31m86.5 MB/s\u001b[0m eta \u001b[36m0:00:00\u001b[0m\n",
            "\u001b[?25hDownloading mlflow_skinny-3.1.1-py3-none-any.whl (1.9 MB)\n",
            "\u001b[2K   \u001b[90m━━━━━━━━━━━━━━━━━━━━━━━━━━━━━━━━━━━━━━━━\u001b[0m \u001b[32m1.9/1.9 MB\u001b[0m \u001b[31m88.8 MB/s\u001b[0m eta \u001b[36m0:00:00\u001b[0m\n",
            "\u001b[?25hDownloading alembic-1.16.4-py3-none-any.whl (247 kB)\n",
            "\u001b[2K   \u001b[90m━━━━━━━━━━━━━━━━━━━━━━━━━━━━━━━━━━━━━━━━\u001b[0m \u001b[32m247.0/247.0 kB\u001b[0m \u001b[31m23.0 MB/s\u001b[0m eta \u001b[36m0:00:00\u001b[0m\n",
            "\u001b[?25hDownloading docker-7.1.0-py3-none-any.whl (147 kB)\n",
            "\u001b[2K   \u001b[90m━━━━━━━━━━━━━━━━━━━━━━━━━━━━━━━━━━━━━━━━\u001b[0m \u001b[32m147.8/147.8 kB\u001b[0m \u001b[31m14.6 MB/s\u001b[0m eta \u001b[36m0:00:00\u001b[0m\n",
            "\u001b[?25hDownloading graphene-3.4.3-py2.py3-none-any.whl (114 kB)\n",
            "\u001b[2K   \u001b[90m━━━━━━━━━━━━━━━━━━━━━━━━━━━━━━━━━━━━━━━━\u001b[0m \u001b[32m114.9/114.9 kB\u001b[0m \u001b[31m11.7 MB/s\u001b[0m eta \u001b[36m0:00:00\u001b[0m\n",
            "\u001b[?25hDownloading gunicorn-23.0.0-py3-none-any.whl (85 kB)\n",
            "\u001b[2K   \u001b[90m━━━━━━━━━━━━━━━━━━━━━━━━━━━━━━━━━━━━━━━━\u001b[0m \u001b[32m85.0/85.0 kB\u001b[0m \u001b[31m8.8 MB/s\u001b[0m eta \u001b[36m0:00:00\u001b[0m\n",
            "\u001b[?25hDownloading databricks_sdk-0.58.0-py3-none-any.whl (741 kB)\n",
            "\u001b[2K   \u001b[90m━━━━━━━━━━━━━━━━━━━━━━━━━━━━━━━━━━━━━━━━\u001b[0m \u001b[32m741.4/741.4 kB\u001b[0m \u001b[31m50.3 MB/s\u001b[0m eta \u001b[36m0:00:00\u001b[0m\n",
            "\u001b[?25hDownloading graphql_core-3.2.6-py3-none-any.whl (203 kB)\n",
            "\u001b[2K   \u001b[90m━━━━━━━━━━━━━━━━━━━━━━━━━━━━━━━━━━━━━━━━\u001b[0m \u001b[32m203.4/203.4 kB\u001b[0m \u001b[31m20.2 MB/s\u001b[0m eta \u001b[36m0:00:00\u001b[0m\n",
            "\u001b[?25hDownloading graphql_relay-3.2.0-py3-none-any.whl (16 kB)\n",
            "Downloading opentelemetry_api-1.35.0-py3-none-any.whl (65 kB)\n",
            "\u001b[2K   \u001b[90m━━━━━━━━━━━━━━━━━━━━━━━━━━━━━━━━━━━━━━━━\u001b[0m \u001b[32m65.6/65.6 kB\u001b[0m \u001b[31m6.2 MB/s\u001b[0m eta \u001b[36m0:00:00\u001b[0m\n",
            "\u001b[?25hDownloading opentelemetry_sdk-1.35.0-py3-none-any.whl (119 kB)\n",
            "\u001b[2K   \u001b[90m━━━━━━━━━━━━━━━━━━━━━━━━━━━━━━━━━━━━━━━━\u001b[0m \u001b[32m119.4/119.4 kB\u001b[0m \u001b[31m12.4 MB/s\u001b[0m eta \u001b[36m0:00:00\u001b[0m\n",
            "\u001b[?25hDownloading opentelemetry_semantic_conventions-0.56b0-py3-none-any.whl (201 kB)\n",
            "\u001b[2K   \u001b[90m━━━━━━━━━━━━━━━━━━━━━━━━━━━━━━━━━━━━━━━━\u001b[0m \u001b[32m201.6/201.6 kB\u001b[0m \u001b[31m18.5 MB/s\u001b[0m eta \u001b[36m0:00:00\u001b[0m\n",
            "\u001b[?25hInstalling collected packages: gunicorn, graphql-core, opentelemetry-api, graphql-relay, docker, alembic, opentelemetry-semantic-conventions, graphene, databricks-sdk, opentelemetry-sdk, mlflow-skinny, mlflow\n",
            "Successfully installed alembic-1.16.4 databricks-sdk-0.58.0 docker-7.1.0 graphene-3.4.3 graphql-core-3.2.6 graphql-relay-3.2.0 gunicorn-23.0.0 mlflow-3.1.1 mlflow-skinny-3.1.1 opentelemetry-api-1.35.0 opentelemetry-sdk-1.35.0 opentelemetry-semantic-conventions-0.56b0\n"
          ]
        }
      ]
    },
    {
      "cell_type": "code",
      "source": [
        "import mlflow\n",
        "import os\n",
        "\n",
        "os.environ[\"MLFLOW_TRACKING_USERNAME\"] = \"goguaD\"\n",
        "os.environ[\"MLFLOW_TRACKING_PASSWORD\"] = \"685c4f5b2a0c555f9136c60a8666661d952de9be\"\n",
        "mlflow.set_tracking_uri(\"https://dagshub.com/goguaD/finalProjectML.mlflow\")\n",
        "mlflow.set_experiment(\"walmart-sales\")\n",
        "\n",
        "sample_wmae = 196.02\n",
        "\n",
        "with mlflow.start_run():\n",
        "    mlflow.log_param(\"model\", \"LightGBM\")\n",
        "    mlflow.log_param(\"n_estimators\", 3000)\n",
        "    mlflow.log_param(\"learning_rate\", 0.01)\n",
        "    mlflow.log_param(\"num_leaves\", 63)\n",
        "    mlflow.log_param(\"max_depth\", 12)\n",
        "    mlflow.log_param(\"subsample\", 0.85)\n",
        "    mlflow.log_param(\"colsample_bytree\", 0.85)\n",
        "    mlflow.log_param(\"reg_alpha\", 0.05)\n",
        "    mlflow.log_param(\"reg_lambda\", 0.05)\n",
        "\n",
        "    mlflow.log_metric(\"final_wmae\", sample_wmae)\n",
        "\n",
        "    print(\"Logged successfully!\")"
      ],
      "metadata": {
        "id": "DXpGK9QHno2B",
        "colab": {
          "base_uri": "https://localhost:8080/"
        },
        "outputId": "8f557657-c663-478a-da68-ddb133c2deeb"
      },
      "execution_count": 19,
      "outputs": [
        {
          "output_type": "stream",
          "name": "stdout",
          "text": [
            "Logged successfully!\n",
            "🏃 View run secretive-crane-754 at: https://dagshub.com/goguaD/finalProjectML.mlflow/#/experiments/0/runs/6f2069118e5b437ead51350795920dc5\n",
            "🧪 View experiment at: https://dagshub.com/goguaD/finalProjectML.mlflow/#/experiments/0\n"
          ]
        }
      ]
    },
    {
      "cell_type": "code",
      "source": [],
      "metadata": {
        "id": "OAXkDpVo2nzQ"
      },
      "execution_count": null,
      "outputs": []
    }
  ],
  "metadata": {
    "colab": {
      "provenance": [],
      "gpuType": "T4"
    },
    "kernelspec": {
      "display_name": "Python 3",
      "name": "python3"
    },
    "language_info": {
      "name": "python"
    },
    "accelerator": "GPU"
  },
  "nbformat": 4,
  "nbformat_minor": 0
}