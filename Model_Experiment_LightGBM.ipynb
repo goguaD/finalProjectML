{
  "metadata": {
    "kernelspec": {
      "language": "python",
      "display_name": "Python 3",
      "name": "python3"
    },
    "language_info": {
      "pygments_lexer": "ipython3",
      "nbconvert_exporter": "python",
      "version": "3.6.4",
      "file_extension": ".py",
      "codemirror_mode": {
        "name": "ipython",
        "version": 3
      },
      "name": "python",
      "mimetype": "text/x-python"
    },
    "kaggle": {
      "accelerator": "none",
      "dataSources": [],
      "isInternetEnabled": true,
      "language": "python",
      "sourceType": "notebook",
      "isGpuEnabled": false
    },
    "colab": {
      "name": "Model_Experiment_LightGBM",
      "provenance": [],
      "include_colab_link": true
    },
    "widgets": {
      "application/vnd.jupyter.widget-state+json": {
        "6cf7fca8066f4597999a740487ebae97": {
          "model_module": "@jupyter-widgets/controls",
          "model_name": "VBoxModel",
          "model_module_version": "1.5.0",
          "state": {
            "_dom_classes": [],
            "_model_module": "@jupyter-widgets/controls",
            "_model_module_version": "1.5.0",
            "_model_name": "VBoxModel",
            "_view_count": null,
            "_view_module": "@jupyter-widgets/controls",
            "_view_module_version": "1.5.0",
            "_view_name": "VBoxView",
            "box_style": "",
            "children": [
              "IPY_MODEL_eb1771629592449a9186b483bb933080"
            ],
            "layout": "IPY_MODEL_61353ada20fd406798e71235012fe8cb"
          }
        },
        "819af012539b4a9aafadb3030fb54f76": {
          "model_module": "@jupyter-widgets/controls",
          "model_name": "HTMLModel",
          "model_module_version": "1.5.0",
          "state": {
            "_dom_classes": [],
            "_model_module": "@jupyter-widgets/controls",
            "_model_module_version": "1.5.0",
            "_model_name": "HTMLModel",
            "_view_count": null,
            "_view_module": "@jupyter-widgets/controls",
            "_view_module_version": "1.5.0",
            "_view_name": "HTMLView",
            "description": "",
            "description_tooltip": null,
            "layout": "IPY_MODEL_f5bd983b5fae4dfa94ac32fbc3845714",
            "placeholder": "​",
            "style": "IPY_MODEL_bc94f649f7d540a19f65d0cd5a32b97a",
            "value": "<center> <img\nsrc=https://www.kaggle.com/static/images/site-logo.png\nalt='Kaggle'> <br> Create an API token from <a\nhref=\"https://www.kaggle.com/settings/account\" target=\"_blank\">your Kaggle\nsettings page</a> and paste it below along with your Kaggle username. <br> </center>"
          }
        },
        "ec722e3051c1496aad872336c8901736": {
          "model_module": "@jupyter-widgets/controls",
          "model_name": "TextModel",
          "model_module_version": "1.5.0",
          "state": {
            "_dom_classes": [],
            "_model_module": "@jupyter-widgets/controls",
            "_model_module_version": "1.5.0",
            "_model_name": "TextModel",
            "_view_count": null,
            "_view_module": "@jupyter-widgets/controls",
            "_view_module_version": "1.5.0",
            "_view_name": "TextView",
            "continuous_update": true,
            "description": "Username:",
            "description_tooltip": null,
            "disabled": false,
            "layout": "IPY_MODEL_ff1b11f1989d4a4c89e1424111658f0d",
            "placeholder": "​",
            "style": "IPY_MODEL_51ff39f8d71e4921a08aee8aff09e639",
            "value": "lizikutateladze"
          }
        },
        "58b3b65c0a644421a177d82aa4fbc976": {
          "model_module": "@jupyter-widgets/controls",
          "model_name": "PasswordModel",
          "model_module_version": "1.5.0",
          "state": {
            "_dom_classes": [],
            "_model_module": "@jupyter-widgets/controls",
            "_model_module_version": "1.5.0",
            "_model_name": "PasswordModel",
            "_view_count": null,
            "_view_module": "@jupyter-widgets/controls",
            "_view_module_version": "1.5.0",
            "_view_name": "PasswordView",
            "continuous_update": true,
            "description": "Token:",
            "description_tooltip": null,
            "disabled": false,
            "layout": "IPY_MODEL_e6a4f4e1ed7a4be79459e31018c5fd42",
            "placeholder": "​",
            "style": "IPY_MODEL_f9a821a04e504acd83dd51d75b4f41f0",
            "value": ""
          }
        },
        "6b7f155c884b496cb081c7371690ab76": {
          "model_module": "@jupyter-widgets/controls",
          "model_name": "ButtonModel",
          "model_module_version": "1.5.0",
          "state": {
            "_dom_classes": [],
            "_model_module": "@jupyter-widgets/controls",
            "_model_module_version": "1.5.0",
            "_model_name": "ButtonModel",
            "_view_count": null,
            "_view_module": "@jupyter-widgets/controls",
            "_view_module_version": "1.5.0",
            "_view_name": "ButtonView",
            "button_style": "",
            "description": "Login",
            "disabled": false,
            "icon": "",
            "layout": "IPY_MODEL_ee409a2ec9cb4484830dd00d757a5d34",
            "style": "IPY_MODEL_6fa43e99a8d1433c93ae0abd7c13e8ad",
            "tooltip": ""
          }
        },
        "84144a3304a647d1a4247279aab3baf3": {
          "model_module": "@jupyter-widgets/controls",
          "model_name": "HTMLModel",
          "model_module_version": "1.5.0",
          "state": {
            "_dom_classes": [],
            "_model_module": "@jupyter-widgets/controls",
            "_model_module_version": "1.5.0",
            "_model_name": "HTMLModel",
            "_view_count": null,
            "_view_module": "@jupyter-widgets/controls",
            "_view_module_version": "1.5.0",
            "_view_name": "HTMLView",
            "description": "",
            "description_tooltip": null,
            "layout": "IPY_MODEL_12040bb276a5479bb03aebc2f15c67b2",
            "placeholder": "​",
            "style": "IPY_MODEL_2574e4e940b241128ec5b986944ddd04",
            "value": "\n<b>Thank You</b></center>"
          }
        },
        "61353ada20fd406798e71235012fe8cb": {
          "model_module": "@jupyter-widgets/base",
          "model_name": "LayoutModel",
          "model_module_version": "1.2.0",
          "state": {
            "_model_module": "@jupyter-widgets/base",
            "_model_module_version": "1.2.0",
            "_model_name": "LayoutModel",
            "_view_count": null,
            "_view_module": "@jupyter-widgets/base",
            "_view_module_version": "1.2.0",
            "_view_name": "LayoutView",
            "align_content": null,
            "align_items": "center",
            "align_self": null,
            "border": null,
            "bottom": null,
            "display": "flex",
            "flex": null,
            "flex_flow": "column",
            "grid_area": null,
            "grid_auto_columns": null,
            "grid_auto_flow": null,
            "grid_auto_rows": null,
            "grid_column": null,
            "grid_gap": null,
            "grid_row": null,
            "grid_template_areas": null,
            "grid_template_columns": null,
            "grid_template_rows": null,
            "height": null,
            "justify_content": null,
            "justify_items": null,
            "left": null,
            "margin": null,
            "max_height": null,
            "max_width": null,
            "min_height": null,
            "min_width": null,
            "object_fit": null,
            "object_position": null,
            "order": null,
            "overflow": null,
            "overflow_x": null,
            "overflow_y": null,
            "padding": null,
            "right": null,
            "top": null,
            "visibility": null,
            "width": "50%"
          }
        },
        "f5bd983b5fae4dfa94ac32fbc3845714": {
          "model_module": "@jupyter-widgets/base",
          "model_name": "LayoutModel",
          "model_module_version": "1.2.0",
          "state": {
            "_model_module": "@jupyter-widgets/base",
            "_model_module_version": "1.2.0",
            "_model_name": "LayoutModel",
            "_view_count": null,
            "_view_module": "@jupyter-widgets/base",
            "_view_module_version": "1.2.0",
            "_view_name": "LayoutView",
            "align_content": null,
            "align_items": null,
            "align_self": null,
            "border": null,
            "bottom": null,
            "display": null,
            "flex": null,
            "flex_flow": null,
            "grid_area": null,
            "grid_auto_columns": null,
            "grid_auto_flow": null,
            "grid_auto_rows": null,
            "grid_column": null,
            "grid_gap": null,
            "grid_row": null,
            "grid_template_areas": null,
            "grid_template_columns": null,
            "grid_template_rows": null,
            "height": null,
            "justify_content": null,
            "justify_items": null,
            "left": null,
            "margin": null,
            "max_height": null,
            "max_width": null,
            "min_height": null,
            "min_width": null,
            "object_fit": null,
            "object_position": null,
            "order": null,
            "overflow": null,
            "overflow_x": null,
            "overflow_y": null,
            "padding": null,
            "right": null,
            "top": null,
            "visibility": null,
            "width": null
          }
        },
        "bc94f649f7d540a19f65d0cd5a32b97a": {
          "model_module": "@jupyter-widgets/controls",
          "model_name": "DescriptionStyleModel",
          "model_module_version": "1.5.0",
          "state": {
            "_model_module": "@jupyter-widgets/controls",
            "_model_module_version": "1.5.0",
            "_model_name": "DescriptionStyleModel",
            "_view_count": null,
            "_view_module": "@jupyter-widgets/base",
            "_view_module_version": "1.2.0",
            "_view_name": "StyleView",
            "description_width": ""
          }
        },
        "ff1b11f1989d4a4c89e1424111658f0d": {
          "model_module": "@jupyter-widgets/base",
          "model_name": "LayoutModel",
          "model_module_version": "1.2.0",
          "state": {
            "_model_module": "@jupyter-widgets/base",
            "_model_module_version": "1.2.0",
            "_model_name": "LayoutModel",
            "_view_count": null,
            "_view_module": "@jupyter-widgets/base",
            "_view_module_version": "1.2.0",
            "_view_name": "LayoutView",
            "align_content": null,
            "align_items": null,
            "align_self": null,
            "border": null,
            "bottom": null,
            "display": null,
            "flex": null,
            "flex_flow": null,
            "grid_area": null,
            "grid_auto_columns": null,
            "grid_auto_flow": null,
            "grid_auto_rows": null,
            "grid_column": null,
            "grid_gap": null,
            "grid_row": null,
            "grid_template_areas": null,
            "grid_template_columns": null,
            "grid_template_rows": null,
            "height": null,
            "justify_content": null,
            "justify_items": null,
            "left": null,
            "margin": null,
            "max_height": null,
            "max_width": null,
            "min_height": null,
            "min_width": null,
            "object_fit": null,
            "object_position": null,
            "order": null,
            "overflow": null,
            "overflow_x": null,
            "overflow_y": null,
            "padding": null,
            "right": null,
            "top": null,
            "visibility": null,
            "width": null
          }
        },
        "51ff39f8d71e4921a08aee8aff09e639": {
          "model_module": "@jupyter-widgets/controls",
          "model_name": "DescriptionStyleModel",
          "model_module_version": "1.5.0",
          "state": {
            "_model_module": "@jupyter-widgets/controls",
            "_model_module_version": "1.5.0",
            "_model_name": "DescriptionStyleModel",
            "_view_count": null,
            "_view_module": "@jupyter-widgets/base",
            "_view_module_version": "1.2.0",
            "_view_name": "StyleView",
            "description_width": ""
          }
        },
        "e6a4f4e1ed7a4be79459e31018c5fd42": {
          "model_module": "@jupyter-widgets/base",
          "model_name": "LayoutModel",
          "model_module_version": "1.2.0",
          "state": {
            "_model_module": "@jupyter-widgets/base",
            "_model_module_version": "1.2.0",
            "_model_name": "LayoutModel",
            "_view_count": null,
            "_view_module": "@jupyter-widgets/base",
            "_view_module_version": "1.2.0",
            "_view_name": "LayoutView",
            "align_content": null,
            "align_items": null,
            "align_self": null,
            "border": null,
            "bottom": null,
            "display": null,
            "flex": null,
            "flex_flow": null,
            "grid_area": null,
            "grid_auto_columns": null,
            "grid_auto_flow": null,
            "grid_auto_rows": null,
            "grid_column": null,
            "grid_gap": null,
            "grid_row": null,
            "grid_template_areas": null,
            "grid_template_columns": null,
            "grid_template_rows": null,
            "height": null,
            "justify_content": null,
            "justify_items": null,
            "left": null,
            "margin": null,
            "max_height": null,
            "max_width": null,
            "min_height": null,
            "min_width": null,
            "object_fit": null,
            "object_position": null,
            "order": null,
            "overflow": null,
            "overflow_x": null,
            "overflow_y": null,
            "padding": null,
            "right": null,
            "top": null,
            "visibility": null,
            "width": null
          }
        },
        "f9a821a04e504acd83dd51d75b4f41f0": {
          "model_module": "@jupyter-widgets/controls",
          "model_name": "DescriptionStyleModel",
          "model_module_version": "1.5.0",
          "state": {
            "_model_module": "@jupyter-widgets/controls",
            "_model_module_version": "1.5.0",
            "_model_name": "DescriptionStyleModel",
            "_view_count": null,
            "_view_module": "@jupyter-widgets/base",
            "_view_module_version": "1.2.0",
            "_view_name": "StyleView",
            "description_width": ""
          }
        },
        "ee409a2ec9cb4484830dd00d757a5d34": {
          "model_module": "@jupyter-widgets/base",
          "model_name": "LayoutModel",
          "model_module_version": "1.2.0",
          "state": {
            "_model_module": "@jupyter-widgets/base",
            "_model_module_version": "1.2.0",
            "_model_name": "LayoutModel",
            "_view_count": null,
            "_view_module": "@jupyter-widgets/base",
            "_view_module_version": "1.2.0",
            "_view_name": "LayoutView",
            "align_content": null,
            "align_items": null,
            "align_self": null,
            "border": null,
            "bottom": null,
            "display": null,
            "flex": null,
            "flex_flow": null,
            "grid_area": null,
            "grid_auto_columns": null,
            "grid_auto_flow": null,
            "grid_auto_rows": null,
            "grid_column": null,
            "grid_gap": null,
            "grid_row": null,
            "grid_template_areas": null,
            "grid_template_columns": null,
            "grid_template_rows": null,
            "height": null,
            "justify_content": null,
            "justify_items": null,
            "left": null,
            "margin": null,
            "max_height": null,
            "max_width": null,
            "min_height": null,
            "min_width": null,
            "object_fit": null,
            "object_position": null,
            "order": null,
            "overflow": null,
            "overflow_x": null,
            "overflow_y": null,
            "padding": null,
            "right": null,
            "top": null,
            "visibility": null,
            "width": null
          }
        },
        "6fa43e99a8d1433c93ae0abd7c13e8ad": {
          "model_module": "@jupyter-widgets/controls",
          "model_name": "ButtonStyleModel",
          "model_module_version": "1.5.0",
          "state": {
            "_model_module": "@jupyter-widgets/controls",
            "_model_module_version": "1.5.0",
            "_model_name": "ButtonStyleModel",
            "_view_count": null,
            "_view_module": "@jupyter-widgets/base",
            "_view_module_version": "1.2.0",
            "_view_name": "StyleView",
            "button_color": null,
            "font_weight": ""
          }
        },
        "12040bb276a5479bb03aebc2f15c67b2": {
          "model_module": "@jupyter-widgets/base",
          "model_name": "LayoutModel",
          "model_module_version": "1.2.0",
          "state": {
            "_model_module": "@jupyter-widgets/base",
            "_model_module_version": "1.2.0",
            "_model_name": "LayoutModel",
            "_view_count": null,
            "_view_module": "@jupyter-widgets/base",
            "_view_module_version": "1.2.0",
            "_view_name": "LayoutView",
            "align_content": null,
            "align_items": null,
            "align_self": null,
            "border": null,
            "bottom": null,
            "display": null,
            "flex": null,
            "flex_flow": null,
            "grid_area": null,
            "grid_auto_columns": null,
            "grid_auto_flow": null,
            "grid_auto_rows": null,
            "grid_column": null,
            "grid_gap": null,
            "grid_row": null,
            "grid_template_areas": null,
            "grid_template_columns": null,
            "grid_template_rows": null,
            "height": null,
            "justify_content": null,
            "justify_items": null,
            "left": null,
            "margin": null,
            "max_height": null,
            "max_width": null,
            "min_height": null,
            "min_width": null,
            "object_fit": null,
            "object_position": null,
            "order": null,
            "overflow": null,
            "overflow_x": null,
            "overflow_y": null,
            "padding": null,
            "right": null,
            "top": null,
            "visibility": null,
            "width": null
          }
        },
        "2574e4e940b241128ec5b986944ddd04": {
          "model_module": "@jupyter-widgets/controls",
          "model_name": "DescriptionStyleModel",
          "model_module_version": "1.5.0",
          "state": {
            "_model_module": "@jupyter-widgets/controls",
            "_model_module_version": "1.5.0",
            "_model_name": "DescriptionStyleModel",
            "_view_count": null,
            "_view_module": "@jupyter-widgets/base",
            "_view_module_version": "1.2.0",
            "_view_name": "StyleView",
            "description_width": ""
          }
        },
        "b78a147592274c678d237d66cdfa8ea4": {
          "model_module": "@jupyter-widgets/controls",
          "model_name": "LabelModel",
          "model_module_version": "1.5.0",
          "state": {
            "_dom_classes": [],
            "_model_module": "@jupyter-widgets/controls",
            "_model_module_version": "1.5.0",
            "_model_name": "LabelModel",
            "_view_count": null,
            "_view_module": "@jupyter-widgets/controls",
            "_view_module_version": "1.5.0",
            "_view_name": "LabelView",
            "description": "",
            "description_tooltip": null,
            "layout": "IPY_MODEL_4d65c91418f64cdabce458b3fe23abbf",
            "placeholder": "​",
            "style": "IPY_MODEL_771cb768ca6a4e84b2a752622ffc5a09",
            "value": "Connecting..."
          }
        },
        "4d65c91418f64cdabce458b3fe23abbf": {
          "model_module": "@jupyter-widgets/base",
          "model_name": "LayoutModel",
          "model_module_version": "1.2.0",
          "state": {
            "_model_module": "@jupyter-widgets/base",
            "_model_module_version": "1.2.0",
            "_model_name": "LayoutModel",
            "_view_count": null,
            "_view_module": "@jupyter-widgets/base",
            "_view_module_version": "1.2.0",
            "_view_name": "LayoutView",
            "align_content": null,
            "align_items": null,
            "align_self": null,
            "border": null,
            "bottom": null,
            "display": null,
            "flex": null,
            "flex_flow": null,
            "grid_area": null,
            "grid_auto_columns": null,
            "grid_auto_flow": null,
            "grid_auto_rows": null,
            "grid_column": null,
            "grid_gap": null,
            "grid_row": null,
            "grid_template_areas": null,
            "grid_template_columns": null,
            "grid_template_rows": null,
            "height": null,
            "justify_content": null,
            "justify_items": null,
            "left": null,
            "margin": null,
            "max_height": null,
            "max_width": null,
            "min_height": null,
            "min_width": null,
            "object_fit": null,
            "object_position": null,
            "order": null,
            "overflow": null,
            "overflow_x": null,
            "overflow_y": null,
            "padding": null,
            "right": null,
            "top": null,
            "visibility": null,
            "width": null
          }
        },
        "771cb768ca6a4e84b2a752622ffc5a09": {
          "model_module": "@jupyter-widgets/controls",
          "model_name": "DescriptionStyleModel",
          "model_module_version": "1.5.0",
          "state": {
            "_model_module": "@jupyter-widgets/controls",
            "_model_module_version": "1.5.0",
            "_model_name": "DescriptionStyleModel",
            "_view_count": null,
            "_view_module": "@jupyter-widgets/base",
            "_view_module_version": "1.2.0",
            "_view_name": "StyleView",
            "description_width": ""
          }
        },
        "eb1771629592449a9186b483bb933080": {
          "model_module": "@jupyter-widgets/controls",
          "model_name": "LabelModel",
          "model_module_version": "1.5.0",
          "state": {
            "_dom_classes": [],
            "_model_module": "@jupyter-widgets/controls",
            "_model_module_version": "1.5.0",
            "_model_name": "LabelModel",
            "_view_count": null,
            "_view_module": "@jupyter-widgets/controls",
            "_view_module_version": "1.5.0",
            "_view_name": "LabelView",
            "description": "",
            "description_tooltip": null,
            "layout": "IPY_MODEL_e560816e8dbc437bb6527088f97f83b5",
            "placeholder": "​",
            "style": "IPY_MODEL_21021a1f96fd4d0db11572d023a2f060",
            "value": "Kaggle credentials successfully validated."
          }
        },
        "e560816e8dbc437bb6527088f97f83b5": {
          "model_module": "@jupyter-widgets/base",
          "model_name": "LayoutModel",
          "model_module_version": "1.2.0",
          "state": {
            "_model_module": "@jupyter-widgets/base",
            "_model_module_version": "1.2.0",
            "_model_name": "LayoutModel",
            "_view_count": null,
            "_view_module": "@jupyter-widgets/base",
            "_view_module_version": "1.2.0",
            "_view_name": "LayoutView",
            "align_content": null,
            "align_items": null,
            "align_self": null,
            "border": null,
            "bottom": null,
            "display": null,
            "flex": null,
            "flex_flow": null,
            "grid_area": null,
            "grid_auto_columns": null,
            "grid_auto_flow": null,
            "grid_auto_rows": null,
            "grid_column": null,
            "grid_gap": null,
            "grid_row": null,
            "grid_template_areas": null,
            "grid_template_columns": null,
            "grid_template_rows": null,
            "height": null,
            "justify_content": null,
            "justify_items": null,
            "left": null,
            "margin": null,
            "max_height": null,
            "max_width": null,
            "min_height": null,
            "min_width": null,
            "object_fit": null,
            "object_position": null,
            "order": null,
            "overflow": null,
            "overflow_x": null,
            "overflow_y": null,
            "padding": null,
            "right": null,
            "top": null,
            "visibility": null,
            "width": null
          }
        },
        "21021a1f96fd4d0db11572d023a2f060": {
          "model_module": "@jupyter-widgets/controls",
          "model_name": "DescriptionStyleModel",
          "model_module_version": "1.5.0",
          "state": {
            "_model_module": "@jupyter-widgets/controls",
            "_model_module_version": "1.5.0",
            "_model_name": "DescriptionStyleModel",
            "_view_count": null,
            "_view_module": "@jupyter-widgets/base",
            "_view_module_version": "1.2.0",
            "_view_name": "StyleView",
            "description_width": ""
          }
        }
      }
    }
  },
  "nbformat_minor": 0,
  "nbformat": 4,
  "cells": [
    {
      "cell_type": "markdown",
      "metadata": {
        "id": "view-in-github",
        "colab_type": "text"
      },
      "source": [
        "<a href=\"https://colab.research.google.com/github/goguaD/finalProjectML/blob/main/Model_Experiment_LightGBM.ipynb\" target=\"_parent\"><img src=\"https://colab.research.google.com/assets/colab-badge.svg\" alt=\"Open In Colab\"/></a>"
      ]
    },
    {
      "source": [
        "# IMPORTANT: SOME KAGGLE DATA SOURCES ARE PRIVATE\n",
        "# RUN THIS CELL IN ORDER TO IMPORT YOUR KAGGLE DATA SOURCES.\n",
        "import kagglehub\n",
        "kagglehub.login()\n"
      ],
      "metadata": {
        "id": "zA_Y31yGyo35",
        "outputId": "2cf5b41b-d4e1-48e2-93da-44a5b8992eb7",
        "colab": {
          "base_uri": "https://localhost:8080/",
          "height": 84,
          "referenced_widgets": [
            "6cf7fca8066f4597999a740487ebae97",
            "819af012539b4a9aafadb3030fb54f76",
            "ec722e3051c1496aad872336c8901736",
            "58b3b65c0a644421a177d82aa4fbc976",
            "6b7f155c884b496cb081c7371690ab76",
            "84144a3304a647d1a4247279aab3baf3",
            "61353ada20fd406798e71235012fe8cb",
            "f5bd983b5fae4dfa94ac32fbc3845714",
            "bc94f649f7d540a19f65d0cd5a32b97a",
            "ff1b11f1989d4a4c89e1424111658f0d",
            "51ff39f8d71e4921a08aee8aff09e639",
            "e6a4f4e1ed7a4be79459e31018c5fd42",
            "f9a821a04e504acd83dd51d75b4f41f0",
            "ee409a2ec9cb4484830dd00d757a5d34",
            "6fa43e99a8d1433c93ae0abd7c13e8ad",
            "12040bb276a5479bb03aebc2f15c67b2",
            "2574e4e940b241128ec5b986944ddd04",
            "b78a147592274c678d237d66cdfa8ea4",
            "4d65c91418f64cdabce458b3fe23abbf",
            "771cb768ca6a4e84b2a752622ffc5a09",
            "eb1771629592449a9186b483bb933080",
            "e560816e8dbc437bb6527088f97f83b5",
            "21021a1f96fd4d0db11572d023a2f060"
          ]
        }
      },
      "cell_type": "code",
      "outputs": [
        {
          "output_type": "display_data",
          "data": {
            "text/plain": [
              "VBox(children=(HTML(value='<center> <img\\nsrc=https://www.kaggle.com/static/images/site-logo.png\\nalt=\\'Kaggle…"
            ],
            "application/vnd.jupyter.widget-view+json": {
              "version_major": 2,
              "version_minor": 0,
              "model_id": "6cf7fca8066f4597999a740487ebae97"
            }
          },
          "metadata": {}
        },
        {
          "output_type": "stream",
          "name": "stdout",
          "text": [
            "Kaggle credentials set.\n",
            "Kaggle credentials successfully validated.\n"
          ]
        }
      ],
      "execution_count": 5
    },
    {
      "source": [
        "# IMPORTANT: RUN THIS CELL IN ORDER TO IMPORT YOUR KAGGLE DATA SOURCES,\n",
        "# THEN FEEL FREE TO DELETE THIS CELL.\n",
        "# NOTE: THIS NOTEBOOK ENVIRONMENT DIFFERS FROM KAGGLE'S PYTHON\n",
        "# ENVIRONMENT SO THERE MAY BE MISSING LIBRARIES USED BY YOUR\n",
        "# NOTEBOOK.\n",
        "\n",
        "walmart_recruiting_store_sales_forecasting_path = kagglehub.competition_download('walmart-recruiting-store-sales-forecasting')\n",
        "\n",
        "print('Data source import complete.')\n"
      ],
      "metadata": {
        "id": "_08DaXHKyo3_",
        "outputId": "aa0ce29b-81a7-4504-ddef-69d5dedff396",
        "colab": {
          "base_uri": "https://localhost:8080/"
        }
      },
      "cell_type": "code",
      "outputs": [
        {
          "output_type": "stream",
          "name": "stdout",
          "text": [
            "Data source import complete.\n"
          ]
        }
      ],
      "execution_count": 6
    },
    {
      "cell_type": "code",
      "source": [
        "# This Python 3 environment comes with many helpful analytics libraries installed\n",
        "# It is defined by the kaggle/python Docker image: https://github.com/kaggle/docker-python\n",
        "# For example, here's several helpful packages to load\n",
        "\n",
        "import numpy as np # linear algebra\n",
        "import pandas as pd # data processing, CSV file I/O (e.g. pd.read_csv)\n",
        "\n",
        "# Input data files are available in the read-only \"../input/\" directory\n",
        "# For example, running this (by clicking run or pressing Shift+Enter) will list all files under the input directory\n",
        "\n",
        "import os\n",
        "for dirname, _, filenames in os.walk('/kaggle/input'):\n",
        "    for filename in filenames:\n",
        "        print(os.path.join(dirname, filename))\n",
        "\n",
        "# You can write up to 20GB to the current directory (/kaggle/working/) that gets preserved as output when you create a version using \"Save & Run All\"\n",
        "# You can also write temporary files to /kaggle/temp/, but they won't be saved outside of the current session"
      ],
      "metadata": {
        "_uuid": "8f2839f25d086af736a60e9eeb907d3b93b6e0e5",
        "_cell_guid": "b1076dfc-b9ad-4769-8c92-a6c4dae69d19",
        "trusted": true,
        "id": "CLGtwagNyo4A"
      },
      "outputs": [],
      "execution_count": 7
    },
    {
      "cell_type": "code",
      "source": [
        "\n",
        "import os\n",
        "import warnings\n",
        "from datetime import datetime\n",
        "\n",
        "import pandas as pd\n",
        "import numpy as np\n",
        "\n",
        "import lightgbm as lgb\n",
        "from sklearn.metrics import mean_squared_error, mean_absolute_error\n",
        "from sklearn.model_selection import TimeSeriesSplit\n",
        "import mlflow\n",
        "import mlflow.lightgbm\n",
        "import matplotlib.pyplot as plt\n",
        "import seaborn as sns\n",
        "\n",
        "warnings.filterwarnings(\"ignore\")\n",
        "\n",
        "data_base_path = None\n"
      ],
      "metadata": {
        "id": "BPsaDleWy_Kw"
      },
      "execution_count": 31,
      "outputs": []
    },
    {
      "cell_type": "code",
      "source": [
        "data_base_path = '/content/'\n",
        "print(f\"Data will be loaded from Colab /content/ path: {data_base_path}\")\n"
      ],
      "metadata": {
        "id": "Bmp_VQHcGD-K",
        "outputId": "adb699ca-66c1-405e-e0a2-414c5842be5b",
        "colab": {
          "base_uri": "https://localhost:8080/"
        }
      },
      "execution_count": 32,
      "outputs": [
        {
          "output_type": "stream",
          "name": "stdout",
          "text": [
            "Data will be loaded from Colab /content/ path: /content/\n"
          ]
        }
      ]
    },
    {
      "cell_type": "code",
      "source": [
        "if data_base_path is None or not os.path.exists(data_base_path):\n",
        "    print(\"\\nNo valid data path set or path does not exist from chosen options.\")\n",
        "    print(\"Please uncomment and configure one of the 'Option' blocks above to specify your data location.\")\n",
        "\n",
        "    if os.path.exists('/kaggle/input/walmart-recruiting-store-sales-forecasting/'):\n",
        "        data_base_path = '/kaggle/input/walmart-recruiting-store-sales-forecasting/'\n",
        "        print(f\"Attempting to load from default Kaggle input path: {data_base_path}\")\n",
        "    else:\n",
        "        print(\"Critical: No accessible data path found. Please ensure your data files are in one of the specified locations.\")\n",
        "        raise FileNotFoundError(\"Data files not found. Please check your data loading configuration.\")\n"
      ],
      "metadata": {
        "id": "V27yRj1dGI-R"
      },
      "execution_count": 37,
      "outputs": []
    },
    {
      "cell_type": "code",
      "source": [
        "\n",
        "# --- Load DataFrames ---\n",
        "print(\"\\nLoading dataframes...\")\n",
        "try:\n",
        "    df_train = pd.read_csv(f'{data_base_path}train.csv', parse_dates=['Date'])\n",
        "    df_test = pd.read_csv(f'{data_base_path}test.csv', parse_dates=['Date'])\n",
        "    df_features = pd.read_csv(f'{data_base_path}features.csv', parse_dates=['Date'])\n",
        "    df_stores = pd.read_csv(f'{data_base_path}stores.csv')\n",
        "    print(\"All dataframes loaded successfully.\")\n",
        "    print(f\"\\n--- df_features head (check 'Store', 'Date', 'IsHoliday') ---\")\n",
        "except FileNotFoundError as e:\n",
        "    print(f\"Critical Error: One or more data files not found in '{data_base_path}'. Error: {e}\")\n",
        "    print(\"Please ensure the CSV files (train.csv, test.csv, features.csv, stores.csv) are directly in the specified 'data_base_path'.\")\n",
        "    raise\n",
        "except Exception as e:\n",
        "    print(f\"Critical Error: An unexpected error occurred during data loading. Error: {e}\")\n",
        "    raise\n"
      ],
      "metadata": {
        "id": "UWbinRFzGNV6",
        "outputId": "757a6460-d6ab-4586-b361-0fdb2fb44f04",
        "colab": {
          "base_uri": "https://localhost:8080/"
        }
      },
      "execution_count": 80,
      "outputs": [
        {
          "output_type": "stream",
          "name": "stdout",
          "text": [
            "\n",
            "Loading dataframes...\n",
            "All dataframes loaded successfully.\n",
            "\n",
            "--- df_features head (check 'Store', 'Date', 'IsHoliday') ---\n"
          ]
        }
      ]
    },
    {
      "cell_type": "code",
      "source": [
        "print(\"\\nMerging dataframes...\")\n",
        "df = df_train.merge(df_stores, on='Store', how='left')\n"
      ],
      "metadata": {
        "id": "GkVgqEFAGvdr",
        "outputId": "7982326e-bb00-4dcf-e0d4-a0419b177a86",
        "colab": {
          "base_uri": "https://localhost:8080/"
        }
      },
      "execution_count": 81,
      "outputs": [
        {
          "output_type": "stream",
          "name": "stdout",
          "text": [
            "\n",
            "Merging dataframes...\n"
          ]
        }
      ]
    },
    {
      "cell_type": "code",
      "source": [
        "print(\"\\n--- Pre-merge Debugging ---\")\n",
        "print(\"df (train + stores) info:\")\n",
        "df.info()\n",
        "print(\"\\ndf_features info:\")\n",
        "df_features.info()\n",
        "\n",
        "print(\"\\ndf (train + stores) head for merge keys:\")\n",
        "print(df[['Store', 'Date']].head())\n",
        "print(\"\\ndf_features head for merge keys:\")\n",
        "print(df_features[['Store', 'Date']].head())\n",
        "\n",
        "common_store_dates_df = df[['Store', 'Date']].drop_duplicates()\n",
        "common_store_dates_features = df_features[['Store', 'Date']].drop_duplicates()\n",
        "overlap_count = pd.merge(common_store_dates_df, common_store_dates_features, on=['Store', 'Date'], how='inner').shape[0]\n",
        "print(f\"\\nNumber of unique Store-Date pairs in df (train + stores): {common_store_dates_df.shape[0]}\")\n",
        "print(f\"Number of unique Store-Date pairs in df_features: {common_store_dates_features.shape[0]}\")\n",
        "print(f\"Number of overlapping Store-Date pairs (inner join): {overlap_count}\")\n",
        "if overlap_count == 0:\n",
        "    print(\"WARNING: No overlapping Store-Date pairs found between df and df_features. This will result in many NaNs after merge.\")\n",
        "    print(\"Please check the 'Store' and 'Date' columns for consistency (e.g., data types, ranges).\")\n",
        "\n",
        "\n",
        "common_cols_to_drop_from_df = [\n",
        "    'Temperature', 'Fuel_Price', 'CPI', 'Unemployment',\n",
        "    'MarkDown1', 'MarkDown2', 'MarkDown3', 'MarkDown4', 'MarkDown5',\n",
        "    'IsHoliday'\n",
        "]\n",
        "cols_to_drop_existing = [col for col in common_cols_to_drop_from_df if col in df.columns]\n",
        "\n",
        "if cols_to_drop_existing:\n",
        "    print(f\"Dropping common columns from df (from train.csv/stores.csv) before merging with features.csv: {cols_to_drop_existing}\")\n",
        "    df = df.drop(columns=cols_to_drop_existing)\n",
        "else:\n",
        "    print(\"No common columns to drop from df before merging with features.csv (or they don't exist).\")\n",
        "\n"
      ],
      "metadata": {
        "id": "zTxPMzkBG7F8",
        "outputId": "40666c4b-1280-43a7-ce6c-aa6eb71dedc4",
        "colab": {
          "base_uri": "https://localhost:8080/"
        }
      },
      "execution_count": 82,
      "outputs": [
        {
          "output_type": "stream",
          "name": "stdout",
          "text": [
            "\n",
            "--- Pre-merge Debugging ---\n",
            "df (train + stores) info:\n",
            "<class 'pandas.core.frame.DataFrame'>\n",
            "RangeIndex: 421570 entries, 0 to 421569\n",
            "Data columns (total 7 columns):\n",
            " #   Column        Non-Null Count   Dtype         \n",
            "---  ------        --------------   -----         \n",
            " 0   Store         421570 non-null  int64         \n",
            " 1   Dept          421570 non-null  int64         \n",
            " 2   Date          421570 non-null  datetime64[ns]\n",
            " 3   Weekly_Sales  421570 non-null  float64       \n",
            " 4   IsHoliday     421570 non-null  bool          \n",
            " 5   Type          421570 non-null  object        \n",
            " 6   Size          421570 non-null  int64         \n",
            "dtypes: bool(1), datetime64[ns](1), float64(1), int64(3), object(1)\n",
            "memory usage: 19.7+ MB\n",
            "\n",
            "df_features info:\n",
            "<class 'pandas.core.frame.DataFrame'>\n",
            "RangeIndex: 8190 entries, 0 to 8189\n",
            "Data columns (total 12 columns):\n",
            " #   Column        Non-Null Count  Dtype         \n",
            "---  ------        --------------  -----         \n",
            " 0   Store         8190 non-null   int64         \n",
            " 1   Date          8190 non-null   datetime64[ns]\n",
            " 2   Temperature   8190 non-null   float64       \n",
            " 3   Fuel_Price    8190 non-null   float64       \n",
            " 4   MarkDown1     4032 non-null   float64       \n",
            " 5   MarkDown2     2921 non-null   float64       \n",
            " 6   MarkDown3     3613 non-null   float64       \n",
            " 7   MarkDown4     3464 non-null   float64       \n",
            " 8   MarkDown5     4050 non-null   float64       \n",
            " 9   CPI           7605 non-null   float64       \n",
            " 10  Unemployment  7605 non-null   float64       \n",
            " 11  IsHoliday     8190 non-null   bool          \n",
            "dtypes: bool(1), datetime64[ns](1), float64(9), int64(1)\n",
            "memory usage: 712.0 KB\n",
            "\n",
            "df (train + stores) head for merge keys:\n",
            "   Store       Date\n",
            "0      1 2010-02-05\n",
            "1      1 2010-02-12\n",
            "2      1 2010-02-19\n",
            "3      1 2010-02-26\n",
            "4      1 2010-03-05\n",
            "\n",
            "df_features head for merge keys:\n",
            "   Store       Date\n",
            "0      1 2010-02-05\n",
            "1      1 2010-02-12\n",
            "2      1 2010-02-19\n",
            "3      1 2010-02-26\n",
            "4      1 2010-03-05\n",
            "\n",
            "Number of unique Store-Date pairs in df (train + stores): 6435\n",
            "Number of unique Store-Date pairs in df_features: 8190\n",
            "Number of overlapping Store-Date pairs (inner join): 6435\n",
            "Dropping common columns from df (from train.csv/stores.csv) before merging with features.csv: ['IsHoliday']\n"
          ]
        }
      ]
    },
    {
      "cell_type": "code",
      "source": [
        "\n",
        "df = df.merge(df_features, on=['Store', 'Date'], how='left')\n",
        "print(\"Dataframes merged.\")\n",
        "print(f\"\\n--- Merged DataFrame head (check 'Store', 'Date', 'IsHoliday') ---\")\n",
        "if 'IsHoliday' in df.columns:\n",
        "    print(df[['Store', 'Date', 'IsHoliday']].head())\n",
        "else:\n",
        "    print(\"Error: 'IsHoliday' column still not found after merge. This indicates a deeper issue with merge keys or data in features.csv.\")\n",
        "\n",
        "print(f\"Columns in merged DataFrame after final merge: {df.columns.tolist()}\")\n",
        "\n"
      ],
      "metadata": {
        "id": "b5AvzWSSHdfn",
        "outputId": "48e771dd-5bc8-4d07-ecaa-da951ee38906",
        "colab": {
          "base_uri": "https://localhost:8080/"
        }
      },
      "execution_count": 83,
      "outputs": [
        {
          "output_type": "stream",
          "name": "stdout",
          "text": [
            "Dataframes merged.\n",
            "\n",
            "--- Merged DataFrame head (check 'Store', 'Date', 'IsHoliday') ---\n",
            "   Store       Date  IsHoliday\n",
            "0      1 2010-02-05      False\n",
            "1      1 2010-02-12       True\n",
            "2      1 2010-02-19      False\n",
            "3      1 2010-02-26      False\n",
            "4      1 2010-03-05      False\n",
            "Columns in merged DataFrame after final merge: ['Store', 'Dept', 'Date', 'Weekly_Sales', 'Type', 'Size', 'Temperature', 'Fuel_Price', 'MarkDown1', 'MarkDown2', 'MarkDown3', 'MarkDown4', 'MarkDown5', 'CPI', 'Unemployment', 'IsHoliday']\n"
          ]
        }
      ]
    },
    {
      "cell_type": "code",
      "source": [
        "print(\"\\nHandling missing values...\")\n",
        "for col in ['Temperature', 'Fuel_Price', 'CPI', 'Unemployment', 'MarkDown1', 'MarkDown2', 'MarkDown3', 'MarkDown4', 'MarkDown5']:\n",
        "    if col in df.columns:\n",
        "        df[col] = df[col].fillna(0)\n",
        "    else:\n",
        "        print(f\"Warning: Column '{col}' not found in DataFrame for NaN handling.\")\n",
        "print(\"Missing values filled.\")\n",
        "\n"
      ],
      "metadata": {
        "id": "l14vdYpAHgvz",
        "outputId": "62dcf8b6-b406-413e-d7a6-cd125c9eb9af",
        "colab": {
          "base_uri": "https://localhost:8080/"
        }
      },
      "execution_count": 84,
      "outputs": [
        {
          "output_type": "stream",
          "name": "stdout",
          "text": [
            "\n",
            "Handling missing values...\n",
            "Missing values filled.\n"
          ]
        }
      ]
    },
    {
      "cell_type": "code",
      "source": [
        "if 'IsHoliday' in df.columns:\n",
        "    df['IsHoliday'] = df['IsHoliday'].astype(int)\n",
        "else:\n",
        "    df['IsHoliday'] = 0\n"
      ],
      "metadata": {
        "id": "66CpxHd_IEy0"
      },
      "execution_count": 86,
      "outputs": []
    },
    {
      "cell_type": "code",
      "source": [
        "df['Weekly_Sales'] = df['Weekly_Sales'].apply(lambda x: max(0, x))\n",
        "\n"
      ],
      "metadata": {
        "id": "bCOJ53JTIHfA"
      },
      "execution_count": 88,
      "outputs": []
    },
    {
      "cell_type": "code",
      "source": [
        "def create_features(df_input):\n",
        "    df_input['Year'] = df_input['Date'].dt.year\n",
        "    df_input['Month'] = df_input['Date'].dt.month\n",
        "    df_input['Week'] = df_input['Date'].dt.isocalendar().week.astype(int)\n",
        "    df_input['Day'] = df_input['Date'].dt.day\n",
        "    df_input['DayOfWeek'] = df_input['Date'].dt.dayofweek\n",
        "    df_input['DayOfYear'] = df_input['Date'].dt.dayofyear\n",
        "    return df_input\n",
        "\n",
        "\n",
        "df = create_features(df.copy())\n",
        "print(\"Time-based features created.\")\n",
        "\n"
      ],
      "metadata": {
        "id": "UOM9UWRaIJMF",
        "outputId": "6e98451c-8647-4f52-d1ff-7ea374e0e8e3",
        "colab": {
          "base_uri": "https://localhost:8080/"
        }
      },
      "execution_count": 89,
      "outputs": [
        {
          "output_type": "stream",
          "name": "stdout",
          "text": [
            "Time-based features created.\n"
          ]
        }
      ]
    },
    {
      "cell_type": "code",
      "source": [
        "features = [\n",
        "    'Store', 'Dept', 'Year', 'Month', 'Week', 'Day', 'DayOfWeek', 'DayOfYear',\n",
        "    'IsHoliday', 'Temperature', 'Fuel_Price', 'CPI', 'Unemployment',\n",
        "    'Size', 'Type',\n",
        "    'MarkDown1', 'MarkDown2', 'MarkDown3', 'MarkDown4', 'MarkDown5'\n",
        "]\n",
        "target = 'Weekly_Sales'\n",
        "\n"
      ],
      "metadata": {
        "id": "n1qVfkJFILP5"
      },
      "execution_count": 90,
      "outputs": []
    },
    {
      "cell_type": "code",
      "source": [
        "print(\"\\nApplying One-Hot Encoding to 'Type' column...\")\n",
        "df = pd.get_dummies(df, columns=['Type'], prefix='Type', drop_first=True)\n",
        "features.remove('Type')\n",
        "features.extend([col for col in df.columns if 'Type_' in col])\n",
        "print(\"'Type' column encoded.\")\n"
      ],
      "metadata": {
        "id": "KTrzh3QdIPEi",
        "outputId": "e3e3d140-f5ed-4dff-ff32-c882ad5392f4",
        "colab": {
          "base_uri": "https://localhost:8080/"
        }
      },
      "execution_count": 91,
      "outputs": [
        {
          "output_type": "stream",
          "name": "stdout",
          "text": [
            "\n",
            "Applying One-Hot Encoding to 'Type' column...\n",
            "'Type' column encoded.\n"
          ]
        }
      ]
    },
    {
      "cell_type": "code",
      "source": [
        "\n",
        "final_features = [f for f in features if f in df.columns]\n",
        "print(f\"\\nFinal features used for training: {final_features}\")\n",
        "\n"
      ],
      "metadata": {
        "id": "TJMkNtP2IQrh",
        "outputId": "4d08b8f9-f1a6-43eb-fee0-6a05f6cafbe0",
        "colab": {
          "base_uri": "https://localhost:8080/"
        }
      },
      "execution_count": 92,
      "outputs": [
        {
          "output_type": "stream",
          "name": "stdout",
          "text": [
            "\n",
            "Final features used for training: ['Store', 'Dept', 'Year', 'Month', 'Week', 'Day', 'DayOfWeek', 'DayOfYear', 'IsHoliday', 'Temperature', 'Fuel_Price', 'CPI', 'Unemployment', 'Size', 'MarkDown1', 'MarkDown2', 'MarkDown3', 'MarkDown4', 'MarkDown5', 'Type_B', 'Type_C']\n"
          ]
        }
      ]
    },
    {
      "cell_type": "code",
      "source": [
        "df = df.sort_values('Date')\n",
        "split_date = pd.to_datetime('2011-12-31')\n",
        "\n",
        "X_train = df[df['Date'] <= split_date][final_features]\n",
        "y_train = df[df['Date'] <= split_date][target]\n",
        "X_valid = df[df['Date'] > split_date][final_features]\n",
        "y_valid = df[df['Date'] > split_date][target]\n",
        "\n"
      ],
      "metadata": {
        "id": "VV0C2muJITh5"
      },
      "execution_count": 93,
      "outputs": []
    },
    {
      "cell_type": "code",
      "source": [
        "missing_in_valid = set(X_train.columns) - set(X_valid.columns)\n",
        "missing_in_train = set(X_valid.columns) - set(X_train.columns)\n",
        "if missing_in_valid or missing_in_train:\n",
        "    if missing_in_valid:\n",
        "        print(f\"Missing in valid: {missing_in_valid}\")\n",
        "    if missing_in_train:\n",
        "        print(f\"Missing in train: {missing_in_train}\")\n",
        "    common_cols = list(set(X_train.columns) & set(X_valid.columns))\n",
        "    X_train = X_train[common_cols]\n",
        "    X_valid = X_valid[common_cols]\n",
        "    print(\"Columns aligned for train and validation sets.\")\n",
        "\n"
      ],
      "metadata": {
        "id": "3ZpB1ZbXIXo2"
      },
      "execution_count": 94,
      "outputs": []
    },
    {
      "cell_type": "code",
      "source": [
        "print(f\"Mean: {df['Weekly_Sales'].mean():.2f}\")\n",
        "print(f\"Standard Deviation: {df['Weekly_Sales'].std():.2f}\")\n",
        "print(f\"Min: {df['Weekly_Sales'].min():.2f}\")\n",
        "print(f\"Max: {df['Weekly_Sales'].max():.2f}\")"
      ],
      "metadata": {
        "id": "3AOL0Co9IbSd",
        "outputId": "a051ac2d-6a2d-4636-ea94-94255e1632ac",
        "colab": {
          "base_uri": "https://localhost:8080/"
        }
      },
      "execution_count": 95,
      "outputs": [
        {
          "output_type": "stream",
          "name": "stdout",
          "text": [
            "Mean: 15981.47\n",
            "Standard Deviation: 22711.03\n",
            "Min: 0.00\n",
            "Max: 693099.36\n"
          ]
        }
      ]
    },
    {
      "cell_type": "code",
      "source": [
        "mlflow.set_tracking_uri(\"file:/content/mlruns\")\n"
      ],
      "metadata": {
        "id": "xzmaeSPrIeKF"
      },
      "execution_count": 96,
      "outputs": []
    },
    {
      "cell_type": "code",
      "source": [
        "experiment_name = \"LightGBM_Training\"\n",
        "mlflow.set_experiment(experiment_name)\n",
        "\n",
        "print(f\"MLflow Experiment '{experiment_name}' set up.\")\n",
        "print(f\"MLflow Tracking URI: {mlflow.get_tracking_uri()}\")\n"
      ],
      "metadata": {
        "id": "wVKjrIErI3vn",
        "outputId": "147c0fff-a505-455f-8b2d-ec3eca2e91bc",
        "colab": {
          "base_uri": "https://localhost:8080/"
        }
      },
      "execution_count": 97,
      "outputs": [
        {
          "output_type": "stream",
          "name": "stdout",
          "text": [
            "MLflow Experiment 'LightGBM_Training' set up.\n",
            "MLflow Tracking URI: file:/content/mlruns\n"
          ]
        }
      ]
    },
    {
      "cell_type": "code",
      "source": [
        "mlflow.set_tracking_uri(\"file:/content/mlruns\")\n",
        "\n",
        "experiment_name = \"LightGBM_Training\"\n",
        "mlflow.set_experiment(experiment_name)\n",
        "\n",
        "print(f\"MLflow Experiment '{experiment_name}' set up.\")\n",
        "print(f\"MLflow Tracking URI: {mlflow.get_tracking_uri()}\")\n",
        "\n",
        "with mlflow.start_run(run_name='LGBM_baseline_run'):\n",
        "\n",
        "    params = {\n",
        "        'objective': 'regression_l1',\n",
        "        'metric': 'rmse',\n",
        "        'n_estimators': 1500,\n",
        "        'learning_rate': 0.03,\n",
        "        'num_leaves': 31,\n",
        "        'max_depth': 8,\n",
        "        'min_child_samples': 20,\n",
        "        'subsample': 0.8,\n",
        "        'colsample_bytree': 0.8,\n",
        "        'random_state': 42,\n",
        "        'n_jobs': -1,\n",
        "        'reg_alpha': 0.1,\n",
        "        'reg_lambda': 0.1\n",
        "    }\n",
        "\n",
        "\n",
        "    mlflow.log_params(params)\n",
        "    print(\"\\nLightGBM model training in progress...\")\n",
        "\n",
        "    model = lgb.LGBMRegressor(**params)\n",
        "\n",
        "    callbacks = [\n",
        "        lgb.early_stopping(100, verbose=False),\n",
        "        lgb.log_evaluation(period=200)\n",
        "    ]\n",
        "\n",
        "    model.fit(X_train, y_train,\n",
        "              eval_set=[(X_valid, y_valid)],\n",
        "              eval_metric='rmse',\n",
        "              callbacks=callbacks)\n",
        "\n",
        "    print(\"LightGBM model training finished.\")\n",
        "\n",
        "    preds_val = model.predict(X_valid)\n",
        "\n",
        "    val_rmse = np.sqrt(mean_squared_error(y_valid, preds_val))\n",
        "    val_mae = mean_absolute_error(y_valid, preds_val)\n",
        "\n",
        "    print(f\"\\nValidation RMSE: {val_rmse:.2f}\")\n",
        "    print(f\"Validation MAE: {val_mae:.2f}\")\n",
        "\n",
        "    mlflow.log_metric(\"val_rmse\", val_rmse)\n",
        "    mlflow.log_metric(\"val_mae\", val_mae)\n",
        "    mlflow.log_metric(\"best_iteration\", model.best_iteration_)\n",
        "\n",
        "    mlflow.lightgbm.log_model(model, artifact_path='model', registered_model_name=\"LightGBMSalesForecaster\")\n",
        "    print(\"\\nModel logged to MLflow.\")\n",
        "    print(f\"MLflow Run ID: {mlflow.active_run().info.run_id}\")\n",
        "\n",
        "    print(\"\\nPreparing test data for evaluation...\")\n",
        "\n",
        "    df_test_merged = df_test.merge(df_stores, on='Store', how='left')\n",
        "\n",
        "    common_cols_to_drop_from_test = [\n",
        "        'Temperature', 'Fuel_Price', 'CPI', 'Unemployment',\n",
        "        'MarkDown1', 'MarkDown2', 'MarkDown3', 'MarkDown4', 'MarkDown5',\n",
        "        'IsHoliday'\n",
        "    ]\n",
        "    cols_to_drop_existing_test = [col for col in common_cols_to_drop_from_test if col in df_test_merged.columns]\n",
        "\n",
        "    if cols_to_drop_existing_test:\n",
        "        print(f\"Dropping common columns from df_test (from test.csv/stores.csv) before merging with features.csv: {cols_to_drop_existing_test}\")\n",
        "        df_test_merged = df_test_merged.drop(columns=cols_to_drop_existing_test)\n",
        "    else:\n",
        "        print(\"No common columns to drop from df_test_merged before merging with features.csv (or they don't exist).\")\n",
        "\n",
        "    df_test_final = df_test_merged.merge(df_features, on=['Store', 'Date'], how='left')\n",
        "\n",
        "    print(\"Handling missing values in test data...\")\n",
        "    for col in ['Temperature', 'Fuel_Price', 'CPI', 'Unemployment', 'MarkDown1', 'MarkDown2', 'MarkDown3', 'MarkDown4', 'MarkDown5']:\n",
        "        if col in df_test_final.columns:\n",
        "            df_test_final[col] = df_test_final[col].fillna(0)\n",
        "        else:\n",
        "            print(f\"Warning: Column '{col}' not found in df_test_final for NaN handling.\")\n",
        "    print(\"Missing values in test data filled.\")\n",
        "\n",
        "    if 'IsHoliday' in df_test_final.columns:\n",
        "        df_test_final['IsHoliday'] = df_test_final['IsHoliday'].astype(int)\n",
        "    else:\n",
        "        print(\"Warning: 'IsHoliday' column not found in df_test_final. Adding it with default value 0.\")\n",
        "        df_test_final['IsHoliday'] = 0\n",
        "\n",
        "    print(\"Creating time-based features for test data...\")\n",
        "    df_test_final = create_features(df_test_final.copy())\n",
        "    print(\"Time-based features for test data created.\")\n",
        "\n",
        "    print(\"Applying One-Hot Encoding to 'Type' column in test data...\")\n",
        "    if 'Type' in df_test_final.columns:\n",
        "        df_test_final = pd.get_dummies(df_test_final, columns=['Type'], prefix='Type', drop_first=True)\n",
        "    else:\n",
        "        print(\"Warning: 'Type' column not found in df_test_final. Skipping One-Hot Encoding for 'Type'.\")\n",
        "    print(\"Test data preprocessing complete.\")\n",
        "\n",
        "    X_test = df_test_final.reindex(columns=X_train.columns, fill_value=0)\n",
        "\n",
        "    if X_test.isnull().sum().sum() > 0:\n",
        "        print(\"Warning: NaNs found in X_test after alignment. Filling with 0.\")\n",
        "        X_test = X_test.fillna(0)\n",
        "\n",
        "    print(f\"Final Test set size for prediction: {len(X_test)}\")\n",
        "    print(f\"Test set features (first 5 rows):\\n{X_test.head()}\")\n",
        "\n",
        "    print(\"\\nEvaluating on test set...\")\n",
        "    preds_test = model.predict(X_test)\n",
        "\n",
        "    submission_df = pd.DataFrame({'Id': df_test['Store'].astype(str) + '_' + df_test['Dept'].astype(str) + '_' + df_test['Date'].dt.strftime('%Y-%m-%d'),\n",
        "                                  'Weekly_Sales': preds_test})\n",
        "\n",
        "    submission_df['Weekly_Sales'] = submission_df['Weekly_Sales'].apply(lambda x: max(0, x))\n",
        "\n",
        "    submission_file_path = 'submission_lightgbm.csv'\n",
        "    submission_df.to_csv(submission_file_path, index=False)\n",
        "    print(f\"\\nSubmission file '{submission_file_path}' created successfully.\")\n",
        "\n",
        "    mlflow.log_artifact(submission_file_path)\n",
        "    print(f\"Submission file logged as MLflow artifact.\")\n",
        "\n"
      ],
      "metadata": {
        "id": "S6gSwUx0I5eD",
        "outputId": "039a9db2-84f2-4b71-82d4-c18c86dbe962",
        "colab": {
          "base_uri": "https://localhost:8080/"
        }
      },
      "execution_count": 98,
      "outputs": [
        {
          "output_type": "stream",
          "name": "stdout",
          "text": [
            "MLflow Experiment 'LightGBM_Training' set up.\n",
            "MLflow Tracking URI: file:/content/mlruns\n",
            "\n",
            "LightGBM model training in progress...\n",
            "[LightGBM] [Info] Auto-choosing row-wise multi-threading, the overhead of testing was 0.024751 seconds.\n",
            "You can set `force_row_wise=true` to remove the overhead.\n",
            "And if memory is not enough, you can set `force_col_wise=true`.\n",
            "[LightGBM] [Info] Total Bins 2572\n",
            "[LightGBM] [Info] Number of data points in the train set: 294132, number of used features: 20\n",
            "[LightGBM] [Info] Start training from score 7727.309570\n",
            "[200]\tvalid_0's rmse: 10410.8\n",
            "[400]\tvalid_0's rmse: 8772.69\n",
            "[600]\tvalid_0's rmse: 8025.55\n",
            "[800]\tvalid_0's rmse: 7644.99\n",
            "[1000]\tvalid_0's rmse: 7319.38\n",
            "[1200]\tvalid_0's rmse: 7069.75\n",
            "[1400]\tvalid_0's rmse: 6906.75\n",
            "LightGBM model training finished.\n"
          ]
        },
        {
          "output_type": "stream",
          "name": "stderr",
          "text": [
            "2025/07/07 14:58:30 WARNING mlflow.models.model: `artifact_path` is deprecated. Please use `name` instead.\n"
          ]
        },
        {
          "output_type": "stream",
          "name": "stdout",
          "text": [
            "\n",
            "Validation RMSE: 6844.91\n",
            "Validation MAE: 3347.94\n"
          ]
        },
        {
          "output_type": "stream",
          "name": "stderr",
          "text": [
            "\u001b[31m2025/07/07 14:58:37 WARNING mlflow.models.model: Model logged without a signature and input example. Please set `input_example` parameter when logging the model to auto infer the model signature.\u001b[0m\n",
            "Registered model 'LightGBMSalesForecaster' already exists. Creating a new version of this model...\n",
            "Created version '3' of model 'LightGBMSalesForecaster'.\n"
          ]
        },
        {
          "output_type": "stream",
          "name": "stdout",
          "text": [
            "\n",
            "Model logged to MLflow.\n",
            "MLflow Run ID: a582da8ec4c642cd8440feb510650887\n",
            "\n",
            "Preparing test data for evaluation...\n",
            "Dropping common columns from df_test (from test.csv/stores.csv) before merging with features.csv: ['IsHoliday']\n",
            "Handling missing values in test data...\n",
            "Missing values in test data filled.\n",
            "Creating time-based features for test data...\n",
            "Time-based features for test data created.\n",
            "Applying One-Hot Encoding to 'Type' column in test data...\n",
            "Test data preprocessing complete.\n",
            "Final Test set size for prediction: 115064\n",
            "Test set features (first 5 rows):\n",
            "   Store  Dept  Year  Month  Week  Day  DayOfWeek  DayOfYear  IsHoliday  \\\n",
            "0      1     1  2012     11    44    2          4        307          0   \n",
            "1      1     1  2012     11    45    9          4        314          0   \n",
            "2      1     1  2012     11    46   16          4        321          0   \n",
            "3      1     1  2012     11    47   23          4        328          1   \n",
            "4      1     1  2012     11    48   30          4        335          0   \n",
            "\n",
            "   Temperature  ...         CPI  Unemployment    Size  MarkDown1  MarkDown2  \\\n",
            "0        55.32  ...  223.462779         6.573  151315    6766.44    5147.70   \n",
            "1        61.24  ...  223.481307         6.573  151315   11421.32    3370.89   \n",
            "2        52.92  ...  223.512911         6.573  151315    9696.28     292.10   \n",
            "3        56.23  ...  223.561947         6.573  151315     883.59       4.17   \n",
            "4        52.34  ...  223.610984         6.573  151315    2460.03       0.00   \n",
            "\n",
            "   MarkDown3  MarkDown4  MarkDown5  Type_B  Type_C  \n",
            "0      50.82    3639.90    2737.42   False   False  \n",
            "1      40.28    4646.79    6154.16   False   False  \n",
            "2     103.78    1133.15    6612.69   False   False  \n",
            "3   74910.32     209.91     303.32   False   False  \n",
            "4    3838.35     150.57    6966.34   False   False  \n",
            "\n",
            "[5 rows x 21 columns]\n",
            "\n",
            "Evaluating on test set...\n",
            "\n",
            "Submission file 'submission_lightgbm.csv' created successfully.\n",
            "Submission file logged as MLflow artifact.\n"
          ]
        }
      ]
    },
    {
      "cell_type": "code",
      "source": [
        "!pip install pyngrok -q"
      ],
      "metadata": {
        "id": "QmC_9XesKua-"
      },
      "execution_count": 72,
      "outputs": []
    },
    {
      "cell_type": "code",
      "source": [
        "\n",
        "import time\n",
        "from pyngrok import ngrok, conf\n",
        "\n",
        "try:\n",
        "    ngrok.kill()\n",
        "    print(\"Terminated any existing ngrok tunnels.\")\n",
        "    time.sleep(2)\n",
        "except Exception as e:\n",
        "    print(f\"Could not terminate existing ngrok tunnels (might not exist): {e}\")\n",
        "\n",
        "try:\n",
        "    NGROK_AUTH_TOKEN = \"2zXieAERZUJhQWKxXhKwvjXc1fh_2CSAEsiYxxG6iSoupmRN9\"\n",
        "    print(f\"NGROK_AUTH_TOKEN value being used: '{NGROK_AUTH_TOKEN}'\")\n",
        "\n",
        "    if NGROK_AUTH_TOKEN == \"YOUR_NGROK_AUTH_TOKEN\":\n",
        "        print(\"CRITICAL: 'YOUR_NGROK_AUTH_TOKEN' placeholder still present. Please replace it with your actual token.\")\n",
        "        raise ValueError(\"ngrok authentication token not set correctly.\")\n",
        "\n",
        "    conf.get_default().auth_token = NGROK_AUTH_TOKEN\n",
        "    print(\"ngrok authentication token set.\")\n",
        "except Exception as e:\n",
        "    print(f\"Error setting ngrok auth token: {e}\")\n",
        "    print(\"Please ensure your ngrok token is correct and pasted without extra spaces or characters.\")\n",
        "    print(\"Also, check your ngrok dashboard (https://dashboard.ngrok.com/agents) to ensure no active sessions are running.\")\n",
        "\n",
        "\n",
        "get_ipython().system_raw(\"mlflow ui --port 5000 &\")\n",
        "\n",
        "print(\"Creating ngrok tunnel for MLflow UI...\")\n",
        "try:\n",
        "    public_url = ngrok.connect(addr=\"5000\", proto=\"http\")\n",
        "    print(f\"MLflow UI is available at: {public_url}\")\n",
        "    print(\"Click the link above to access the MLflow UI in your browser.\")\n",
        "except Exception as e:\n",
        "    print(f\"Error creating ngrok tunnel: {e}\")\n",
        "    print(\"Please ensure ngrok is installed and your auth token is correct.\")\n",
        "    print(\"If the error persists, check your ngrok dashboard (https://dashboard.ngrok.com/agents) and manually kill any active sessions.\")\n"
      ],
      "metadata": {
        "id": "PIaNqYDCMJTh",
        "outputId": "c6127649-eb64-48a8-e5bc-d9e48222fa62",
        "colab": {
          "base_uri": "https://localhost:8080/"
        }
      },
      "execution_count": 79,
      "outputs": [
        {
          "output_type": "stream",
          "name": "stdout",
          "text": [
            "Terminated any existing ngrok tunnels.\n",
            "NGROK_AUTH_TOKEN value being used: '2zXieAERZUJhQWKxXhKwvjXc1fh_2CSAEsiYxxG6iSoupmRN9'\n",
            "ngrok authentication token set.\n",
            "Creating ngrok tunnel for MLflow UI...\n",
            "MLflow UI is available at: NgrokTunnel: \"https://f928-34-45-69-182.ngrok-free.app\" -> \"http://localhost:5000\"\n",
            "Click the link above to access the MLflow UI in your browser.\n"
          ]
        }
      ]
    },
    {
      "cell_type": "code",
      "source": [],
      "metadata": {
        "id": "OH0semEBMQxr"
      },
      "execution_count": null,
      "outputs": []
    }
  ]
}