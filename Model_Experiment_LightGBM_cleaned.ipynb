{
 "metadata": {
  "kernelspec": {
   "display_name": "Python 3",
   "name": "python3"
  },
  "language_info": {
   "pygments_lexer": "ipython3",
   "nbconvert_exporter": "python",
   "version": "3.6.4",
   "file_extension": ".py",
   "codemirror_mode": {
    "name": "ipython",
    "version": 3
   },
   "name": "python",
   "mimetype": "text/x-python"
  },
  "kaggle": {
   "accelerator": "none",
   "dataSources": [
    {
     "sourceId": 3816,
     "databundleVersionId": 32105,
     "sourceType": "competition"
    }
   ],
   "isInternetEnabled": true,
   "language": "python",
   "sourceType": "notebook",
   "isGpuEnabled": false
  },
  "colab": {
   "provenance": [],
   "gpuType": "T4"
  },
  "accelerator": "GPU"
 },
 "nbformat_minor": 0,
 "nbformat": 4,
 "cells": [
  {
   "source": [
    "# IMPORTANT: SOME KAGGLE DATA SOURCES ARE PRIVATE\n",
    "# RUN THIS CELL IN ORDER TO IMPORT YOUR KAGGLE DATA SOURCES.\n",
    "import kagglehub\n",
    "kagglehub.login()\n"
   ],
   "metadata": {
    "id": "yWEsYnnzTt0Y",
    "colab": {
     "base_uri": "https://localhost:8080/",
     "height": 84,
     "referenced_widgets": [
      "014107a9d65c4cf69c801c4df1d3d6e7",
      "cc14534ca8674bd3b758e11a10976a8a",
      "ab07a88f53394874a892f8523fa0b865",
      "049c496ca22346de9f0008079b208485",
      "7be5605ba4734b80ba98d8e61ed88282",
      "cffdc4c27b0247d5b6c7dc7d0e8059ba",
      "0672f3a19dcd4d84b9868e92e7378822",
      "6fcaf94cc52d44fd9e948620b2762038",
      "f6b1fd9a5f8d451ea7a9e0e1f88e66e0",
      "8b38dc4e92964516a9fb504dc8280f7f",
      "6c5224f811a044a493ca39d67438deb2",
      "7e7e35f588ed4ea58178cfc65295c82d",
      "16cb6e436d1c49d3ab434c01e2753ed2",
      "39512f3e14934268b7aed3554e7a52c7",
      "d3bf503f5710483483e2b97b593b8a0e",
      "70f8ecb77102498293a626d26b851e2d",
      "d6796a21e3bb448d864494c71fc6d3de",
      "0f36667eb4ff474dbf2d8bcb332c547d",
      "d566774334794609ba6fdbf0e09a439e",
      "8f79671f6f6c4867a2d793ee3260c8b6",
      "8517ef52bae046f5957eca85c8d48166",
      "79db739b4bdb44d4a0182a8a837b2eef",
      "cb5ea93d8df342cb8db79ae1595f2594"
     ]
    },
    "outputId": "f61dc424-f909-4527-f2d7-d26f2d076fd0",
    "executionInfo": {
     "status": "ok",
     "timestamp": 1753956804053,
     "user_tz": -240,
     "elapsed": 515,
     "user": {
      "displayName": "ZipperNator",
      "userId": "13572371089708989227"
     }
    }
   },
   "cell_type": "code",
   "outputs": [
    {
     "output_type": "stream",
     "name": "stdout",
     "text": [
      "Kaggle credentials set.\n",
      "Kaggle credentials successfully validated.\n"
     ]
    }
   ],
   "execution_count": null
  },
  {
   "source": [
    "# IMPORTANT: RUN THIS CELL IN ORDER TO IMPORT YOUR KAGGLE DATA SOURCES,\n",
    "# THEN FEEL FREE TO DELETE THIS CELL.\n",
    "# NOTE: THIS NOTEBOOK ENVIRONMENT DIFFERS FROM KAGGLE'S PYTHON\n",
    "# ENVIRONMENT SO THERE MAY BE MISSING LIBRARIES USED BY YOUR\n",
    "# NOTEBOOK.\n",
    "\n",
    "walmart_recruiting_store_sales_forecasting_path = kagglehub.competition_download('walmart-recruiting-store-sales-forecasting')\n",
    "\n",
    "print('Data source import complete.')\n"
   ],
   "metadata": {
    "id": "0fHhERJfTt0d",
    "colab": {
     "base_uri": "https://localhost:8080/"
    },
    "outputId": "240095c1-9ec4-40ff-a74a-049c74ac3968",
    "executionInfo": {
     "status": "ok",
     "timestamp": 1753956825773,
     "user_tz": -240,
     "elapsed": 755,
     "user": {
      "displayName": "ZipperNator",
      "userId": "13572371089708989227"
     }
    }
   },
   "cell_type": "code",
   "outputs": [
    {
     "output_type": "stream",
     "name": "stdout",
     "text": [
      "Downloading from https://www.kaggle.com/api/v1/competitions/data/download-all/walmart-recruiting-store-sales-forecasting...\n"
     ]
    },
    {
     "output_type": "stream",
     "name": "stderr",
     "text": [
      "100%|██████████| 2.70M/2.70M [00:00<00:00, 156MB/s]"
     ]
    },
    {
     "output_type": "stream",
     "name": "stdout",
     "text": [
      "Extracting files...\n",
      "Data source import complete.\n"
     ]
    },
    {
     "output_type": "stream",
     "name": "stderr",
     "text": [
      "\n"
     ]
    }
   ],
   "execution_count": null
  },
  {
   "cell_type": "code",
   "source": [
    "# This Python 3 environment comes with many helpful analytics libraries installed\n",
    "# It is defined by the kaggle/python Docker image: https://github.com/kaggle/docker-python\n",
    "# For example, here's several helpful packages to load\n",
    "\n",
    "import numpy as np # linear algebra\n",
    "import pandas as pd # data processing, CSV file I/O (e.g. pd.read_csv)\n",
    "\n",
    "# Input data files are available in the read-only \"../input/\" directory\n",
    "# For example, running this (by clicking run or pressing Shift+Enter) will list all files under the input directory\n",
    "\n",
    "import os\n",
    "for dirname, _, filenames in os.walk('/kaggle/input'):\n",
    "    for filename in filenames:\n",
    "        print(os.path.join(dirname, filename))\n",
    "\n",
    "# You can write up to 20GB to the current directory (/kaggle/working/) that gets preserved as output when you create a version using \"Save & Run All\"\n",
    "# You can also write temporary files to /kaggle/temp/, but they won't be saved outside of the current session"
   ],
   "metadata": {
    "_uuid": "8f2839f25d086af736a60e9eeb907d3b93b6e0e5",
    "_cell_guid": "b1076dfc-b9ad-4769-8c92-a6c4dae69d19",
    "trusted": true,
    "id": "UxKIeeSCTt0e"
   },
   "outputs": [],
   "execution_count": null
  },
  {
   "cell_type": "code",
   "source": [
    "from google.colab import drive\n",
    "drive.mount('/content/drive')"
   ],
   "metadata": {
    "trusted": true,
    "id": "D_eTa38bTt0g",
    "colab": {
     "base_uri": "https://localhost:8080/"
    },
    "outputId": "35a9edd2-0b4d-483d-c8e0-792ccce74b65",
    "executionInfo": {
     "status": "ok",
     "timestamp": 1753956889340,
     "user_tz": -240,
     "elapsed": 21368,
     "user": {
      "displayName": "ZipperNator",
      "userId": "13572371089708989227"
     }
    }
   },
   "outputs": [
    {
     "output_type": "stream",
     "name": "stdout",
     "text": [
      "Mounted at /content/drive\n"
     ]
    }
   ],
   "execution_count": null
  },
  {
   "cell_type": "code",
   "source": [
    "! mkdir ~/.kaggle\n",
    "!cp /content/drive/MyDrive/ML/kaggle.json ~/.kaggle/kaggle.json\n",
    "! chmod 600 ~/.kaggle/kaggle.json\n",
    "! kaggle competitions download -c walmart-recruiting-store-sales-forecasting\n",
    "! unzip walmart-recruiting-store-sales-forecasting"
   ],
   "metadata": {
    "id": "v_EVaZGilOMI",
    "colab": {
     "base_uri": "https://localhost:8080/"
    },
    "executionInfo": {
     "status": "ok",
     "timestamp": 1753956899194,
     "user_tz": -240,
     "elapsed": 2056,
     "user": {
      "displayName": "ZipperNator",
      "userId": "13572371089708989227"
     }
    },
    "outputId": "c28e06b2-ef22-4ff0-a6a8-a70be3bc0a09"
   },
   "execution_count": null,
   "outputs": [
    {
     "output_type": "stream",
     "name": "stdout",
     "text": [
      "mkdir: cannot create directory ‘/root/.kaggle’: File exists\n",
      "Downloading walmart-recruiting-store-sales-forecasting.zip to /content\n",
      "  0% 0.00/2.70M [00:00<?, ?B/s]\n",
      "100% 2.70M/2.70M [00:00<00:00, 640MB/s]\n",
      "Archive:  walmart-recruiting-store-sales-forecasting.zip\n",
      "  inflating: features.csv.zip        \n",
      "  inflating: sampleSubmission.csv.zip  \n",
      "  inflating: stores.csv              \n",
      "  inflating: test.csv.zip            \n",
      "  inflating: train.csv.zip           \n"
     ]
    }
   ]
  },
  {
   "cell_type": "code",
   "source": [
    "import pandas as pd\n",
    "import numpy as np\n",
    "import matplotlib.pyplot as plt\n",
    "import holidays\n",
    "from sklearn.base import BaseEstimator, TransformerMixin\n",
    "from sklearn.pipeline import Pipeline\n",
    "from sklearn.metrics import mean_absolute_error\n",
    "import gc\n",
    "import joblib\n",
    "import os\n",
    "from datetime import datetime\n",
    "import json\n",
    "import matplotlib.pyplot as plt\n",
    "import seaborn as sns\n",
    "from sklearn.model_selection import train_test_split, GridSearchCV, RandomizedSearchCV\n",
    "from xgboost import XGBRegressor\n",
    "from sklearn.metrics import mean_squared_error\n",
    "from sklearn.ensemble import RandomForestRegressor\n",
    "from sklearn.model_selection import cross_val_score\n",
    "import scipy.stats as stats\n",
    "from sklearn.model_selection import RandomizedSearchCV\n",
    "from sklearn.metrics import mean_squared_error\n",
    "from sklearn.metrics import r2_score\n",
    "from sklearn.metrics import mean_absolute_error\n",
    "from sklearn.preprocessing import MinMaxScaler\n",
    "from sklearn.pipeline import Pipeline\n",
    "from sklearn.preprocessing import LabelEncoder\n",
    "import lightgbm as lgb\n",
    "from sklearn.metrics import mean_absolute_error\n",
    "import matplotlib.pyplot as plt\n",
    "import seaborn as sns\n",
    "pd.set_option('display.max_columns', None)\n",
    "pd.set_option('display.width', None)\n",
    "pd.set_option('display.expand_frame_repr', False)"
   ],
   "metadata": {
    "id": "JjoWiZAlla8j"
   },
   "execution_count": null,
   "outputs": []
  },
  {
   "cell_type": "code",
   "source": [
    "\n",
    "stores = pd.read_csv('stores.csv')\n",
    "train = pd.read_csv(\"train.csv.zip\")\n",
    "features = pd.read_csv('features.csv.zip')\n",
    "sample = pd.read_csv('sampleSubmission.csv.zip')\n",
    "test = pd.read_csv('test.csv.zip')"
   ],
   "metadata": {
    "id": "gOVSVy7HldIE"
   },
   "execution_count": null,
   "outputs": []
  },
  {
   "cell_type": "code",
   "source": [
    "train['Date'] = pd.to_datetime(train['Date'])\n",
    "test['Date'] = pd.to_datetime(test['Date'])\n",
    "features['Date'] = pd.to_datetime(features['Date'])\n",
    "train_df = pd.merge(train, features, on=['Store', 'Date', 'IsHoliday'], how='left')\n",
    "test_df = pd.merge(test, features, on=['Store', 'Date', 'IsHoliday'], how='left')\n",
    "train_df = pd.merge(train_df, stores, on='Store', how='left')\n",
    "test_df = pd.merge(test_df, stores, on='Store', how='left')\n",
    "print(\"\\n--- Merged Train Data Info ---\")\n",
    "print(train_df.info())\n",
    "print(\"\\n--- Merged Test Data Info ---\")\n",
    "print(test_df.info())\n",
    "X_train = train_df.drop(['Weekly_Sales'], axis=1)\n",
    "y_train = train_df['Weekly_Sales']\n",
    "\n",
    "del train, test, features, stores\n",
    "gc.collect()\n"
   ],
   "metadata": {
    "id": "UCZiXyOWlqyF",
    "colab": {
     "base_uri": "https://localhost:8080/"
    },
    "executionInfo": {
     "status": "ok",
     "timestamp": 1753957109018,
     "user_tz": -240,
     "elapsed": 469,
     "user": {
      "displayName": "ZipperNator",
      "userId": "13572371089708989227"
     }
    },
    "outputId": "5a67d4bf-75ad-41fd-eccc-8c167aef8d14"
   },
   "execution_count": null,
   "outputs": [
    {
     "output_type": "stream",
     "name": "stdout",
     "text": [
      "\n",
      "--- Merged Train Data Info ---\n",
      "<class 'pandas.core.frame.DataFrame'>\n",
      "RangeIndex: 421570 entries, 0 to 421569\n",
      "Data columns (total 16 columns):\n",
      " #   Column        Non-Null Count   Dtype         \n",
      "---  ------        --------------   -----         \n",
      " 0   Store         421570 non-null  int64         \n",
      " 1   Dept          421570 non-null  int64         \n",
      " 2   Date          421570 non-null  datetime64[ns]\n",
      " 3   Weekly_Sales  421570 non-null  float64       \n",
      " 4   IsHoliday     421570 non-null  bool          \n",
      " 5   Temperature   421570 non-null  float64       \n",
      " 6   Fuel_Price    421570 non-null  float64       \n",
      " 7   MarkDown1     150681 non-null  float64       \n",
      " 8   MarkDown2     111248 non-null  float64       \n",
      " 9   MarkDown3     137091 non-null  float64       \n",
      " 10  MarkDown4     134967 non-null  float64       \n",
      " 11  MarkDown5     151432 non-null  float64       \n",
      " 12  CPI           421570 non-null  float64       \n",
      " 13  Unemployment  421570 non-null  float64       \n",
      " 14  Type          421570 non-null  object        \n",
      " 15  Size          421570 non-null  int64         \n",
      "dtypes: bool(1), datetime64[ns](1), float64(10), int64(3), object(1)\n",
      "memory usage: 48.6+ MB\n",
      "None\n",
      "\n",
      "--- Merged Test Data Info ---\n",
      "<class 'pandas.core.frame.DataFrame'>\n",
      "RangeIndex: 115064 entries, 0 to 115063\n",
      "Data columns (total 15 columns):\n",
      " #   Column        Non-Null Count   Dtype         \n",
      "---  ------        --------------   -----         \n",
      " 0   Store         115064 non-null  int64         \n",
      " 1   Dept          115064 non-null  int64         \n",
      " 2   Date          115064 non-null  datetime64[ns]\n",
      " 3   IsHoliday     115064 non-null  bool          \n",
      " 4   Temperature   115064 non-null  float64       \n",
      " 5   Fuel_Price    115064 non-null  float64       \n",
      " 6   MarkDown1     114915 non-null  float64       \n",
      " 7   MarkDown2     86437 non-null   float64       \n",
      " 8   MarkDown3     105235 non-null  float64       \n",
      " 9   MarkDown4     102176 non-null  float64       \n",
      " 10  MarkDown5     115064 non-null  float64       \n",
      " 11  CPI           76902 non-null   float64       \n",
      " 12  Unemployment  76902 non-null   float64       \n",
      " 13  Type          115064 non-null  object        \n",
      " 14  Size          115064 non-null  int64         \n",
      "dtypes: bool(1), datetime64[ns](1), float64(9), int64(3), object(1)\n",
      "memory usage: 12.4+ MB\n",
      "None\n"
     ]
    },
    {
     "output_type": "execute_result",
     "data": {
      "text/plain": [
       "8"
      ]
     },
     "metadata": {},
     "execution_count": 18
    }
   ]
  },
  {
   "cell_type": "code",
   "source": [
    "from sklearn.base import BaseEstimator, TransformerMixin\n",
    "\n",
    "class MissingMarkdownHandler:\n",
    "\n",
    "    def __init__(self):\n",
    "        self.markdown_cols = None\n",
    "\n",
    "    def fit(self, X, y=None):\n",
    "        self.markdown_cols = [col for col in X.columns if 'markdown' in col.lower()]\n",
    "        return self\n",
    "\n",
    "    def transform(self, X):\n",
    "        X_copy = X.copy()\n",
    "\n",
    "        for col in self.markdown_cols:\n",
    "            if col in X_copy.columns:\n",
    "                X_copy[f'{col}_was_missing'] = X_copy[col].isna().astype(int)\n",
    "\n",
    "                X_copy[col] = X_copy[col].fillna(0)\n",
    "\n",
    "        return X_copy\n",
    "\n",
    "    def fit_transform(self, X, y=None):\n",
    "        return self.fit(X).transform(X)\n",
    "\n"
   ],
   "metadata": {
    "id": "fsR7FTLBq8Ug"
   },
   "execution_count": null,
   "outputs": []
  },
  {
   "cell_type": "code",
   "source": [
    "class MissingValueImputer(BaseEstimator, TransformerMixin):\n",
    "\n",
    "    def __init__(self, numerical_cols_to_impute=None):\n",
    "        self.numerical_cols_to_impute = numerical_cols_to_impute if numerical_cols_to_impute is not None else ['Temperature', 'Fuel_Price', 'CPI', 'Unemployment']\n",
    "        self.means = {}\n",
    "\n",
    "    def fit(self, X, y=None):\n",
    "        for col in self.numerical_cols_to_impute:\n",
    "            if col in X.columns:\n",
    "                self.means[col] = X[col].mean()\n",
    "        return self\n",
    "\n",
    "    def transform(self, X):\n",
    "        X_copy = X.copy()\n",
    "\n",
    "        for col in self.numerical_cols_to_impute:\n",
    "            if col in X_copy.columns:\n",
    "                X_copy[col] = X_copy[col].fillna(method='ffill').fillna(method='bfill')\n",
    "                if X_copy[col].isnull().any() and col in self.means:\n",
    "                    X_copy[col] = X_copy[col].fillna(self.means[col])\n",
    "        return X_copy\n"
   ],
   "metadata": {
    "id": "wO2fHfMeCKpy"
   },
   "execution_count": null,
   "outputs": []
  },
  {
   "cell_type": "code",
   "source": [
    "class AdvancedDateFeatureExtractor(BaseEstimator, TransformerMixin):\n",
    "\n",
    "    def __init__(self, date_column: str = 'Date', include_holidays: bool = True,\n",
    "                 include_seasonal: bool = True, include_lags: bool = False):\n",
    "        self.date_column = date_column\n",
    "        self.include_holidays = include_holidays\n",
    "        self.include_seasonal = include_seasonal\n",
    "        self.include_lags = include_lags\n",
    "\n",
    "    def _is_holiday_period(self, date):\n",
    "        month, day = date.month, date.day\n",
    "\n",
    "        if month == 11 and day >= 22:\n",
    "            return 1\n",
    "        elif month == 12:\n",
    "            return 1\n",
    "        elif month == 1 and day <= 7:\n",
    "            return 1\n",
    "        elif month == 9 and day <= 7:\n",
    "            return 1\n",
    "        elif month == 5 and day >= 25:\n",
    "            return 1\n",
    "        else:\n",
    "            return 0\n",
    "\n",
    "    def fit(self, X, y=None):\n",
    "        return self\n",
    "\n",
    "    def transform(self, X):\n",
    "        X_copy = X.copy()\n",
    "\n",
    "        if self.date_column not in X_copy.columns:\n",
    "            raise ValueError(f\"Date column '{self.date_column}' not found in DataFrame.\")\n",
    "\n",
    "        X_copy[self.date_column] = pd.to_datetime(X_copy[self.date_column])\n",
    "\n",
    "        X_copy['Year'] = X_copy[self.date_column].dt.year\n",
    "        X_copy['Month'] = X_copy[self.date_column].dt.month\n",
    "        X_copy['Day'] = X_copy[self.date_column].dt.day\n",
    "        X_copy['DayOfWeek'] = X_copy[self.date_column].dt.dayofweek\n",
    "        X_copy['Week'] = X_copy[self.date_column].dt.isocalendar().week.astype(int)\n",
    "        X_copy['Quarter'] = X_copy[self.date_column].dt.quarter\n",
    "        X_copy['DayOfYear'] = X_copy[self.date_column].dt.dayofyear\n",
    "\n",
    "        X_copy['Month_sin'] = np.sin(2 * np.pi * X_copy['Month'] / 12)\n",
    "        X_copy['Month_cos'] = np.cos(2 * np.pi * X_copy['Month'] / 12)\n",
    "        X_copy['Week_sin'] = np.sin(2 * np.pi * X_copy['Week'] / 52)\n",
    "        X_copy['Week_cos'] = np.cos(2 * np.pi * X_copy['Week'] / 52)\n",
    "        X_copy['DayOfWeek_sin'] = np.sin(2 * np.pi * X_copy['DayOfWeek'] / 7)\n",
    "        X_copy['DayOfWeek_cos'] = np.cos(2 * np.pi * X_copy['DayOfWeek'] / 7)\n",
    "\n",
    "        if self.include_seasonal:\n",
    "            X_copy['Season'] = X_copy['Month'].map({12: 0, 1: 0, 2: 0,\n",
    "                                                   3: 1, 4: 1, 5: 1,\n",
    "                                                   6: 2, 7: 2, 8: 2,\n",
    "                                                   9: 3, 10: 3, 11: 3})\n",
    "\n",
    "            X_copy['IsWeekend'] = (X_copy['DayOfWeek'] >= 5).astype(int)\n",
    "\n",
    "            X_copy['IsMonthEnd'] = (X_copy[self.date_column].dt.is_month_end).astype(int)\n",
    "            X_copy['IsMonthStart'] = (X_copy[self.date_column].dt.is_month_start).astype(int)\n",
    "\n",
    "        if self.include_holidays:\n",
    "            X_copy['IsHolidayPeriod'] = X_copy[self.date_column].apply(self._is_holiday_period)\n",
    "\n",
    "            if 'IsHoliday' in X_copy.columns:\n",
    "                if X_copy['IsHoliday'].dtype == bool:\n",
    "                    X_copy['IsHoliday'] = X_copy['IsHoliday'].astype(int)\n",
    "\n",
    "        markdown_cols = [col for col in X_copy.columns if col.startswith('MarkDown') and not col.endswith('_was_missing')]\n",
    "        if markdown_cols:\n",
    "            X_copy['Total_MarkDown'] = X_copy[markdown_cols].sum(axis=1)\n",
    "            X_copy['MarkDown_Intensity'] = X_copy['Total_MarkDown'] / (X_copy['Total_MarkDown'].mean() + 1e-8)\n",
    "            X_copy['HasMarkDown'] = (X_copy['Total_MarkDown'] > 0).astype(int)\n",
    "\n",
    "        econ_cols = ['Fuel_Price', 'CPI', 'Unemployment']\n",
    "        available_econ = [col for col in econ_cols if col in X_copy.columns]\n",
    "\n",
    "        if len(available_econ) >= 2:\n",
    "            if 'Fuel_Price' in X_copy.columns and 'CPI' in X_copy.columns:\n",
    "                X_copy['Fuel_CPI_Ratio'] = X_copy['Fuel_Price'] / (X_copy['CPI'] + 1e-8)\n",
    "\n",
    "            if 'CPI' in X_copy.columns and 'Unemployment' in X_copy.columns:\n",
    "                X_copy['Economic_Index'] = (X_copy['CPI'] * 0.4 + (100 - X_copy['Unemployment']) * 0.6) / 100\n",
    "\n",
    "        return X_copy\n"
   ],
   "metadata": {
    "id": "HpqSI8Z7CMFI"
   },
   "execution_count": null,
   "outputs": []
  },
  {
   "cell_type": "code",
   "source": [
    "class DateFeatureExtractor(BaseEstimator, TransformerMixin):\n",
    "\n",
    "    def __init__(self, date_column='Date'):\n",
    "        self.date_column = date_column\n",
    "\n",
    "    def fit(self, X, y=None):\n",
    "        return self\n",
    "\n",
    "    def transform(self, X):\n",
    "        X_copy = X.copy()\n",
    "        if self.date_column not in X_copy.columns:\n",
    "            raise ValueError(f\"Date column '{self.date_column}' not found in DataFrame.\")\n",
    "\n",
    "        X_copy[self.date_column] = pd.to_datetime(X_copy[self.date_column])\n",
    "\n",
    "        X_copy['Year'] = X_copy[self.date_column].dt.year\n",
    "        X_copy['Month'] = X_copy[self.date_column].dt.month\n",
    "        X_copy['Month_sin'] = np.sin(2 * np.pi * X_copy['Month'] / 12)\n",
    "        X_copy['Month_cos'] = np.cos(2 * np.pi * X_copy['Month'] / 12)\n",
    "\n",
    "        X_copy['Week'] = X_copy[self.date_column].dt.isocalendar().week.astype(int)\n",
    "        X_copy['Day'] = X_copy[self.date_column].dt.day\n",
    "        X_copy['DayOfWeek'] = X_copy[self.date_column].dt.dayofweek\n",
    "\n",
    "        X_copy['Week_sin'] = np.sin(2 * np.pi * X_copy['Week'] / 52)\n",
    "        X_copy['Week_cos'] = np.cos(2 * np.pi * X_copy['Week'] / 52)\n",
    "\n",
    "        X_copy['Total_MarkDown'] = X_copy[[f'MarkDown{i}' for i in range(1, 6)]].sum(axis=1)\n",
    "        X_copy['MarkDown_Intensity'] = X_copy['Total_MarkDown'] / (X_copy['Total_MarkDown'].mean() + 1)\n",
    "\n",
    "        X_copy['Fuel_CPI_Ratio'] = X_copy['Fuel_Price'] / X_copy['CPI']\n",
    "        X_copy['Economic_Index'] = (X_copy['CPI'] * 0.4 + (100 - X_copy['Unemployment']) * 0.6) / 100\n",
    "\n",
    "\n",
    "        if 'IsHoliday' in X_copy.columns and X_copy['IsHoliday'].dtype == bool:\n",
    "            X_copy['IsHoliday'] = X_copy['IsHoliday'].astype(int)\n",
    "\n",
    "        return X_copy"
   ],
   "metadata": {
    "id": "kMMJMHQOCPeM"
   },
   "execution_count": null,
   "outputs": []
  },
  {
   "cell_type": "code",
   "source": [
    "from sklearn.model_selection import GridSearchCV, TimeSeriesSplit\n",
    "from sklearn.metrics import mean_absolute_error, mean_squared_error\n",
    "from sklearn.pipeline import Pipeline\n",
    "from sklearn.preprocessing import LabelEncoder\n",
    "\n",
    "preprocessing_pipeline = Pipeline([\n",
    "    ('missing_markdown', MissingMarkdownHandler()),\n",
    "    ('missing_imputer', MissingValueImputer()),\n",
    "    ('date_features', AdvancedDateFeatureExtractor())\n",
    "])"
   ],
   "metadata": {
    "id": "zsZL1a2rCRNR"
   },
   "execution_count": null,
   "outputs": []
  },
  {
   "cell_type": "code",
   "source": [
    "X_train_processed = preprocessing_pipeline.fit_transform(X_train, y_train)\n"
   ],
   "metadata": {
    "colab": {
     "base_uri": "https://localhost:8080/"
    },
    "id": "ty4ESeOFCsvG",
    "outputId": "7ef85b14-279f-4b79-a59a-e03dbe137abe",
    "executionInfo": {
     "status": "ok",
     "timestamp": 1753957118618,
     "user_tz": -240,
     "elapsed": 2147,
     "user": {
      "displayName": "ZipperNator",
      "userId": "13572371089708989227"
     }
    }
   },
   "execution_count": null,
   "outputs": [
    {
     "output_type": "stream",
     "name": "stderr",
     "text": [
      "/tmp/ipython-input-1507361449.py:24: FutureWarning: Series.fillna with 'method' is deprecated and will raise in a future version. Use obj.ffill() or obj.bfill() instead.\n",
      "  X_copy[col] = X_copy[col].fillna(method='ffill').fillna(method='bfill')\n"
     ]
    }
   ]
  },
  {
   "cell_type": "code",
   "source": [
    "if 'Date' in X_train_processed.columns:\n",
    "    dates = X_train_processed['Date']\n",
    "    X_train_processed = X_train_processed.drop(['Date'], axis=1)\n",
    "\n",
    "print(f\"Training data shape: {X_train_processed.shape}\")\n",
    "print(f\"Features: {list(X_train_processed.columns)}\")\n",
    "\n",
    "print(\"\\n--- Applying Preprocessing Pipeline to Test Data ---\")\n",
    "X_test_processed = preprocessing_pipeline.transform(test_df.drop(columns=['Id'], errors='ignore'))\n",
    "\n",
    "if 'Date' in X_test_processed.columns:\n",
    "    dates = X_test_processed['Date']\n",
    "    X_test_processed = X_test_processed.drop(['Date'], axis=1)\n",
    "\n",
    "print(\"\\nProcessed X_train_processed info:\")\n",
    "print(X_train_processed.info())\n",
    "print(\"\\nProcessed X_test_processed info:\")\n",
    "print(X_test_processed.info())\n",
    "\n",
    "print(\"\\nMissing values in processed X_train_processed:\\n\", X_train_processed.isnull().sum().sum())\n",
    "print(\"Missing values in processed X_test_processed:\\n\", X_test_processed.isnull().sum().sum())"
   ],
   "metadata": {
    "colab": {
     "base_uri": "https://localhost:8080/"
    },
    "id": "thU6HFTlCuPb",
    "outputId": "d6ec135a-df3c-4ec7-a5d5-b91f3e7c1953",
    "executionInfo": {
     "status": "ok",
     "timestamp": 1753957125400,
     "user_tz": -240,
     "elapsed": 570,
     "user": {
      "displayName": "ZipperNator",
      "userId": "13572371089708989227"
     }
    }
   },
   "execution_count": null,
   "outputs": [
    {
     "output_type": "stream",
     "name": "stdout",
     "text": [
      "Training data shape: (421570, 42)\n",
      "Features: ['Store', 'Dept', 'IsHoliday', 'Temperature', 'Fuel_Price', 'MarkDown1', 'MarkDown2', 'MarkDown3', 'MarkDown4', 'MarkDown5', 'CPI', 'Unemployment', 'Type', 'Size', 'MarkDown1_was_missing', 'MarkDown2_was_missing', 'MarkDown3_was_missing', 'MarkDown4_was_missing', 'MarkDown5_was_missing', 'Year', 'Month', 'Day', 'DayOfWeek', 'Week', 'Quarter', 'DayOfYear', 'Month_sin', 'Month_cos', 'Week_sin', 'Week_cos', 'DayOfWeek_sin', 'DayOfWeek_cos', 'Season', 'IsWeekend', 'IsMonthEnd', 'IsMonthStart', 'IsHolidayPeriod', 'Total_MarkDown', 'MarkDown_Intensity', 'HasMarkDown', 'Fuel_CPI_Ratio', 'Economic_Index']\n",
      "\n",
      "--- Applying Preprocessing Pipeline to Test Data ---\n"
     ]
    },
    {
     "output_type": "stream",
     "name": "stderr",
     "text": [
      "/tmp/ipython-input-1507361449.py:24: FutureWarning: Series.fillna with 'method' is deprecated and will raise in a future version. Use obj.ffill() or obj.bfill() instead.\n",
      "  X_copy[col] = X_copy[col].fillna(method='ffill').fillna(method='bfill')\n"
     ]
    },
    {
     "output_type": "stream",
     "name": "stdout",
     "text": [
      "\n",
      "Processed X_train_processed info:\n",
      "<class 'pandas.core.frame.DataFrame'>\n",
      "RangeIndex: 421570 entries, 0 to 421569\n",
      "Data columns (total 42 columns):\n",
      " #   Column                 Non-Null Count   Dtype  \n",
      "---  ------                 --------------   -----  \n",
      " 0   Store                  421570 non-null  int64  \n",
      " 1   Dept                   421570 non-null  int64  \n",
      " 2   IsHoliday              421570 non-null  int64  \n",
      " 3   Temperature            421570 non-null  float64\n",
      " 4   Fuel_Price             421570 non-null  float64\n",
      " 5   MarkDown1              421570 non-null  float64\n",
      " 6   MarkDown2              421570 non-null  float64\n",
      " 7   MarkDown3              421570 non-null  float64\n",
      " 8   MarkDown4              421570 non-null  float64\n",
      " 9   MarkDown5              421570 non-null  float64\n",
      " 10  CPI                    421570 non-null  float64\n",
      " 11  Unemployment           421570 non-null  float64\n",
      " 12  Type                   421570 non-null  object \n",
      " 13  Size                   421570 non-null  int64  \n",
      " 14  MarkDown1_was_missing  421570 non-null  int64  \n",
      " 15  MarkDown2_was_missing  421570 non-null  int64  \n",
      " 16  MarkDown3_was_missing  421570 non-null  int64  \n",
      " 17  MarkDown4_was_missing  421570 non-null  int64  \n",
      " 18  MarkDown5_was_missing  421570 non-null  int64  \n",
      " 19  Year                   421570 non-null  int32  \n",
      " 20  Month                  421570 non-null  int32  \n",
      " 21  Day                    421570 non-null  int32  \n",
      " 22  DayOfWeek              421570 non-null  int32  \n",
      " 23  Week                   421570 non-null  int64  \n",
      " 24  Quarter                421570 non-null  int32  \n",
      " 25  DayOfYear              421570 non-null  int32  \n",
      " 26  Month_sin              421570 non-null  float64\n",
      " 27  Month_cos              421570 non-null  float64\n",
      " 28  Week_sin               421570 non-null  float64\n",
      " 29  Week_cos               421570 non-null  float64\n",
      " 30  DayOfWeek_sin          421570 non-null  float64\n",
      " 31  DayOfWeek_cos          421570 non-null  float64\n",
      " 32  Season                 421570 non-null  int64  \n",
      " 33  IsWeekend              421570 non-null  int64  \n",
      " 34  IsMonthEnd             421570 non-null  int64  \n",
      " 35  IsMonthStart           421570 non-null  int64  \n",
      " 36  IsHolidayPeriod        421570 non-null  int64  \n",
      " 37  Total_MarkDown         421570 non-null  float64\n",
      " 38  MarkDown_Intensity     421570 non-null  float64\n",
      " 39  HasMarkDown            421570 non-null  int64  \n",
      " 40  Fuel_CPI_Ratio         421570 non-null  float64\n",
      " 41  Economic_Index         421570 non-null  float64\n",
      "dtypes: float64(19), int32(6), int64(16), object(1)\n",
      "memory usage: 125.4+ MB\n",
      "None\n",
      "\n",
      "Processed X_test_processed info:\n",
      "<class 'pandas.core.frame.DataFrame'>\n",
      "RangeIndex: 115064 entries, 0 to 115063\n",
      "Data columns (total 42 columns):\n",
      " #   Column                 Non-Null Count   Dtype  \n",
      "---  ------                 --------------   -----  \n",
      " 0   Store                  115064 non-null  int64  \n",
      " 1   Dept                   115064 non-null  int64  \n",
      " 2   IsHoliday              115064 non-null  int64  \n",
      " 3   Temperature            115064 non-null  float64\n",
      " 4   Fuel_Price             115064 non-null  float64\n",
      " 5   MarkDown1              115064 non-null  float64\n",
      " 6   MarkDown2              115064 non-null  float64\n",
      " 7   MarkDown3              115064 non-null  float64\n",
      " 8   MarkDown4              115064 non-null  float64\n",
      " 9   MarkDown5              115064 non-null  float64\n",
      " 10  CPI                    115064 non-null  float64\n",
      " 11  Unemployment           115064 non-null  float64\n",
      " 12  Type                   115064 non-null  object \n",
      " 13  Size                   115064 non-null  int64  \n",
      " 14  MarkDown1_was_missing  115064 non-null  int64  \n",
      " 15  MarkDown2_was_missing  115064 non-null  int64  \n",
      " 16  MarkDown3_was_missing  115064 non-null  int64  \n",
      " 17  MarkDown4_was_missing  115064 non-null  int64  \n",
      " 18  MarkDown5_was_missing  115064 non-null  int64  \n",
      " 19  Year                   115064 non-null  int32  \n",
      " 20  Month                  115064 non-null  int32  \n",
      " 21  Day                    115064 non-null  int32  \n",
      " 22  DayOfWeek              115064 non-null  int32  \n",
      " 23  Week                   115064 non-null  int64  \n",
      " 24  Quarter                115064 non-null  int32  \n",
      " 25  DayOfYear              115064 non-null  int32  \n",
      " 26  Month_sin              115064 non-null  float64\n",
      " 27  Month_cos              115064 non-null  float64\n",
      " 28  Week_sin               115064 non-null  float64\n",
      " 29  Week_cos               115064 non-null  float64\n",
      " 30  DayOfWeek_sin          115064 non-null  float64\n",
      " 31  DayOfWeek_cos          115064 non-null  float64\n",
      " 32  Season                 115064 non-null  int64  \n",
      " 33  IsWeekend              115064 non-null  int64  \n",
      " 34  IsMonthEnd             115064 non-null  int64  \n",
      " 35  IsMonthStart           115064 non-null  int64  \n",
      " 36  IsHolidayPeriod        115064 non-null  int64  \n",
      " 37  Total_MarkDown         115064 non-null  float64\n",
      " 38  MarkDown_Intensity     115064 non-null  float64\n",
      " 39  HasMarkDown            115064 non-null  int64  \n",
      " 40  Fuel_CPI_Ratio         115064 non-null  float64\n",
      " 41  Economic_Index         115064 non-null  float64\n",
      "dtypes: float64(19), int32(6), int64(16), object(1)\n",
      "memory usage: 34.2+ MB\n",
      "None\n",
      "\n",
      "Missing values in processed X_train_processed:\n",
      " 0\n",
      "Missing values in processed X_test_processed:\n",
      " 0\n"
     ]
    },
    {
     "output_type": "stream",
     "name": "stderr",
     "text": [
      "/usr/local/lib/python3.11/dist-packages/sklearn/pipeline.py:62: FutureWarning: This Pipeline instance is not fitted yet. Call 'fit' with appropriate arguments before using other methods such as transform, predict, etc. This will raise an error in 1.8 instead of the current warning.\n",
      "  warnings.warn(\n"
     ]
    }
   ]
  },
  {
   "cell_type": "code",
   "source": [
    "features_after_pipeline = X_train_processed.columns.tolist()\n",
    "categorical_features_after_pipeline = [col for col in ['Store', 'Dept', 'Type'] if col in features_after_pipeline]\n"
   ],
   "metadata": {
    "id": "HnazC-rtCwYo"
   },
   "execution_count": null,
   "outputs": []
  },
  {
   "cell_type": "code",
   "source": [
    "\n",
    "train_weights = np.where(X_train_processed['IsHoliday'] == 1, 5, 1)\n",
    "\n",
    "test_ids = test_df['Store'].astype(str) + '_' + test_df['Dept'].astype(str) + '_' + test_df['Date'].dt.strftime('%Y-%m-%d')\n",
    "\n",
    "temp_train_df = X_train_processed.copy()\n",
    "temp_train_df['Date'] = pd.to_datetime(train_df['Date'])\n",
    "\n",
    "temp_train_df['Weekly_Sales'] = y_train\n",
    "temp_train_df = temp_train_df.sort_values(by='Date').reset_index(drop=True)\n",
    "\n",
    "validation_cutoff_date = pd.to_datetime('2012-07-01')\n",
    "\n",
    "features_for_training = [col for col in features_after_pipeline if col != 'Date']\n",
    "\n",
    "X_train_split = temp_train_df[temp_train_df['Date'] < validation_cutoff_date][features_for_training]\n",
    "y_train_split = temp_train_df[temp_train_df['Date'] < validation_cutoff_date]['Weekly_Sales']\n",
    "X_val_split = temp_train_df[temp_train_df['Date'] >= validation_cutoff_date][features_for_training]\n",
    "y_val_split = temp_train_df[temp_train_df['Date'] >= validation_cutoff_date]['Weekly_Sales']\n",
    "\n",
    "def weighted_mean_absolute_error(y_true, y_pred, weights):\n",
    "    return np.sum(weights * np.abs(y_true - y_pred)) / np.sum(weights)\n",
    "\n",
    "val_weights = np.where(X_val_split['IsHoliday'] == 1, 5, 1)\n",
    "train_weights_split = np.where(X_train_split['IsHoliday'] == 1, 5, 1)"
   ],
   "metadata": {
    "id": "DCypJP7UCy5z"
   },
   "execution_count": null,
   "outputs": []
  },
  {
   "cell_type": "code",
   "source": [
    "from sklearn.model_selection import ParameterGrid\n",
    "from sklearn.preprocessing import LabelEncoder\n",
    "\n",
    "lgb_params = {\n",
    "    'objective': 'regression_l1',\n",
    "    'metric': 'mae',\n",
    "    'n_estimators': 2000,\n",
    "    'learning_rate': 0.02,\n",
    "    'feature_fraction': 0.8,\n",
    "    'bagging_fraction': 0.8,\n",
    "    'bagging_freq': 1,\n",
    "    'lambda_l1': 0.1,\n",
    "    'lambda_l2': 0.1,\n",
    "    'verbose': -1,\n",
    "    'n_jobs': -1,\n",
    "    'seed': 42,\n",
    "    'boosting_type': 'gbdt',\n",
    "    'max_depth': -1,\n",
    "}\n",
    "\n",
    "param_grid = {\n",
    "    'num_leaves': [32, 64, 128]\n",
    "}\n",
    "\n",
    "\n",
    "best_score = float('inf')\n",
    "best_params = None\n",
    "\n",
    "le = LabelEncoder()\n",
    "X_train_split['Type'] = le.fit_transform(X_train_split['Type'])\n",
    "X_val_split['Type'] = le.transform(X_val_split['Type'])\n",
    "X_test_processed['Type'] = le.transform(X_test_processed['Type'])\n",
    "\n",
    "\n",
    "for params in ParameterGrid(param_grid):\n",
    "    model = lgb.LGBMRegressor(**params, **lgb_params)\n",
    "    model.fit(X_train_split, y_train_split,\n",
    "              eval_set=[(X_val_split, y_val_split)],\n",
    "              callbacks=[lgb.early_stopping(50)],\n",
    "              categorical_feature=['Store', 'Dept', 'Type'])\n",
    "\n",
    "    val_preds = model.predict(X_val_split)\n",
    "    train_weights_split = np.where(X_train_split['IsHoliday'] == 1, 5, 1)\n",
    "    val_wmae = weighted_mean_absolute_error(y_val_split, val_preds, val_weights)\n",
    "    print(f\"WMAE on val set: {val_wmae:.4f}\")\n",
    "\n",
    "    train_predictions = model.predict(X_train_split)\n",
    "    train_wmae = weighted_mean_absolute_error(y_train_split, train_predictions, train_weights_split)\n",
    "    print(f\"WMAE on training set: {train_wmae:.4f}\")\n",
    "\n",
    "    print(\"--------------------------------------------------\")\n",
    "    if val_wmae < best_score:\n",
    "        best_score = val_wmae\n",
    "        best_params = params\n",
    "        best_model = model\n",
    "\n",
    "print(\"Best WMAE:\", best_score)\n",
    "print(\"Best hyperparameters:\", best_params)"
   ],
   "metadata": {
    "colab": {
     "base_uri": "https://localhost:8080/"
    },
    "id": "7YAkVfKlC08s",
    "outputId": "9b07758f-34d5-4068-827e-6d72c805d7bb",
    "executionInfo": {
     "status": "ok",
     "timestamp": 1753957977316,
     "user_tz": -240,
     "elapsed": 793091,
     "user": {
      "displayName": "ZipperNator",
      "userId": "13572371089708989227"
     }
    }
   },
   "execution_count": null,
   "outputs": [
    {
     "output_type": "stream",
     "name": "stdout",
     "text": [
      "Training until validation scores don't improve for 50 rounds\n",
      "Did not meet early stopping. Best iteration is:\n",
      "[2000]\tvalid_0's l1: 2034.72\n",
      "WMAE on val set: 2101.5078\n",
      "WMAE on training set: 2347.4416\n",
      "--------------------------------------------------\n",
      "Training until validation scores don't improve for 50 rounds\n",
      "Did not meet early stopping. Best iteration is:\n",
      "[2000]\tvalid_0's l1: 1755.68\n",
      "WMAE on val set: 1814.5404\n",
      "WMAE on training set: 1931.3508\n",
      "--------------------------------------------------\n",
      "Training until validation scores don't improve for 50 rounds\n",
      "Did not meet early stopping. Best iteration is:\n",
      "[2000]\tvalid_0's l1: 1599.37\n",
      "WMAE on val set: 1649.9871\n",
      "WMAE on training set: 1632.7118\n",
      "--------------------------------------------------\n",
      "Best WMAE: 1649.9871043973637\n",
      "Best hyperparameters: {'num_leaves': 128}\n"
     ]
    }
   ]
  },
  {
   "cell_type": "code",
   "source": [
    "!pip install mlflow"
   ],
   "metadata": {
    "id": "0lqHxh8NC_3z",
    "colab": {
     "base_uri": "https://localhost:8080/"
    },
    "collapsed": true,
    "executionInfo": {
     "status": "ok",
     "timestamp": 1753958280104,
     "user_tz": -240,
     "elapsed": 14806,
     "user": {
      "displayName": "ZipperNator",
      "userId": "13572371089708989227"
     }
    },
    "outputId": "84379210-e4f2-441a-c4c7-b91dfcad68eb"
   },
   "execution_count": null,
   "outputs": [
    {
     "output_type": "stream",
     "name": "stdout",
     "text": [
      "Collecting mlflow\n",
      "  Downloading mlflow-3.1.4-py3-none-any.whl.metadata (29 kB)\n",
      "Collecting mlflow-skinny==3.1.4 (from mlflow)\n",
      "  Downloading mlflow_skinny-3.1.4-py3-none-any.whl.metadata (30 kB)\n",
      "Requirement already satisfied: Flask<4 in /usr/local/lib/python3.11/dist-packages (from mlflow) (3.1.1)\n",
      "Collecting alembic!=1.10.0,<2 (from mlflow)\n",
      "  Downloading alembic-1.16.4-py3-none-any.whl.metadata (7.3 kB)\n",
      "Collecting docker<8,>=4.0.0 (from mlflow)\n",
      "  Downloading docker-7.1.0-py3-none-any.whl.metadata (3.8 kB)\n",
      "Collecting graphene<4 (from mlflow)\n",
      "  Downloading graphene-3.4.3-py2.py3-none-any.whl.metadata (6.9 kB)\n",
      "Collecting gunicorn<24 (from mlflow)\n",
      "  Downloading gunicorn-23.0.0-py3-none-any.whl.metadata (4.4 kB)\n",
      "Requirement already satisfied: matplotlib<4 in /usr/local/lib/python3.11/dist-packages (from mlflow) (3.10.0)\n",
      "Requirement already satisfied: numpy<3 in /usr/local/lib/python3.11/dist-packages (from mlflow) (2.0.2)\n",
      "Requirement already satisfied: pandas<3 in /usr/local/lib/python3.11/dist-packages (from mlflow) (2.2.2)\n",
      "Requirement already satisfied: pyarrow<21,>=4.0.0 in /usr/local/lib/python3.11/dist-packages (from mlflow) (18.1.0)\n",
      "Requirement already satisfied: scikit-learn<2 in /usr/local/lib/python3.11/dist-packages (from mlflow) (1.6.1)\n",
      "Requirement already satisfied: scipy<2 in /usr/local/lib/python3.11/dist-packages (from mlflow) (1.16.0)\n",
      "Requirement already satisfied: sqlalchemy<3,>=1.4.0 in /usr/local/lib/python3.11/dist-packages (from mlflow) (2.0.41)\n",
      "Requirement already satisfied: cachetools<7,>=5.0.0 in /usr/local/lib/python3.11/dist-packages (from mlflow-skinny==3.1.4->mlflow) (5.5.2)\n",
      "Requirement already satisfied: click<9,>=7.0 in /usr/local/lib/python3.11/dist-packages (from mlflow-skinny==3.1.4->mlflow) (8.2.1)\n",
      "Requirement already satisfied: cloudpickle<4 in /usr/local/lib/python3.11/dist-packages (from mlflow-skinny==3.1.4->mlflow) (3.1.1)\n",
      "Collecting databricks-sdk<1,>=0.20.0 (from mlflow-skinny==3.1.4->mlflow)\n",
      "  Downloading databricks_sdk-0.60.0-py3-none-any.whl.metadata (39 kB)\n",
      "Requirement already satisfied: fastapi<1 in /usr/local/lib/python3.11/dist-packages (from mlflow-skinny==3.1.4->mlflow) (0.116.1)\n",
      "Requirement already satisfied: gitpython<4,>=3.1.9 in /usr/local/lib/python3.11/dist-packages (from mlflow-skinny==3.1.4->mlflow) (3.1.45)\n",
      "Requirement already satisfied: importlib_metadata!=4.7.0,<9,>=3.7.0 in /usr/local/lib/python3.11/dist-packages (from mlflow-skinny==3.1.4->mlflow) (8.7.0)\n",
      "Collecting opentelemetry-api<3,>=1.9.0 (from mlflow-skinny==3.1.4->mlflow)\n",
      "  Downloading opentelemetry_api-1.36.0-py3-none-any.whl.metadata (1.5 kB)\n",
      "Collecting opentelemetry-sdk<3,>=1.9.0 (from mlflow-skinny==3.1.4->mlflow)\n",
      "  Downloading opentelemetry_sdk-1.36.0-py3-none-any.whl.metadata (1.5 kB)\n",
      "Requirement already satisfied: packaging<26 in /usr/local/lib/python3.11/dist-packages (from mlflow-skinny==3.1.4->mlflow) (25.0)\n",
      "Requirement already satisfied: protobuf<7,>=3.12.0 in /usr/local/lib/python3.11/dist-packages (from mlflow-skinny==3.1.4->mlflow) (5.29.5)\n",
      "Requirement already satisfied: pydantic<3,>=1.10.8 in /usr/local/lib/python3.11/dist-packages (from mlflow-skinny==3.1.4->mlflow) (2.11.7)\n",
      "Requirement already satisfied: pyyaml<7,>=5.1 in /usr/local/lib/python3.11/dist-packages (from mlflow-skinny==3.1.4->mlflow) (6.0.2)\n",
      "Requirement already satisfied: requests<3,>=2.17.3 in /usr/local/lib/python3.11/dist-packages (from mlflow-skinny==3.1.4->mlflow) (2.32.3)\n",
      "Requirement already satisfied: sqlparse<1,>=0.4.0 in /usr/local/lib/python3.11/dist-packages (from mlflow-skinny==3.1.4->mlflow) (0.5.3)\n",
      "Requirement already satisfied: typing-extensions<5,>=4.0.0 in /usr/local/lib/python3.11/dist-packages (from mlflow-skinny==3.1.4->mlflow) (4.14.1)\n",
      "Requirement already satisfied: uvicorn<1 in /usr/local/lib/python3.11/dist-packages (from mlflow-skinny==3.1.4->mlflow) (0.35.0)\n",
      "Requirement already satisfied: Mako in /usr/lib/python3/dist-packages (from alembic!=1.10.0,<2->mlflow) (1.1.3)\n",
      "Requirement already satisfied: urllib3>=1.26.0 in /usr/local/lib/python3.11/dist-packages (from docker<8,>=4.0.0->mlflow) (2.5.0)\n",
      "Requirement already satisfied: blinker>=1.9.0 in /usr/local/lib/python3.11/dist-packages (from Flask<4->mlflow) (1.9.0)\n",
      "Requirement already satisfied: itsdangerous>=2.2.0 in /usr/local/lib/python3.11/dist-packages (from Flask<4->mlflow) (2.2.0)\n",
      "Requirement already satisfied: jinja2>=3.1.2 in /usr/local/lib/python3.11/dist-packages (from Flask<4->mlflow) (3.1.6)\n",
      "Requirement already satisfied: markupsafe>=2.1.1 in /usr/local/lib/python3.11/dist-packages (from Flask<4->mlflow) (3.0.2)\n",
      "Requirement already satisfied: werkzeug>=3.1.0 in /usr/local/lib/python3.11/dist-packages (from Flask<4->mlflow) (3.1.3)\n",
      "Collecting graphql-core<3.3,>=3.1 (from graphene<4->mlflow)\n",
      "  Downloading graphql_core-3.2.6-py3-none-any.whl.metadata (11 kB)\n",
      "Collecting graphql-relay<3.3,>=3.1 (from graphene<4->mlflow)\n",
      "  Downloading graphql_relay-3.2.0-py3-none-any.whl.metadata (12 kB)\n",
      "Requirement already satisfied: python-dateutil<3,>=2.7.0 in /usr/local/lib/python3.11/dist-packages (from graphene<4->mlflow) (2.9.0.post0)\n",
      "Requirement already satisfied: contourpy>=1.0.1 in /usr/local/lib/python3.11/dist-packages (from matplotlib<4->mlflow) (1.3.2)\n",
      "Requirement already satisfied: cycler>=0.10 in /usr/local/lib/python3.11/dist-packages (from matplotlib<4->mlflow) (0.12.1)\n",
      "Requirement already satisfied: fonttools>=4.22.0 in /usr/local/lib/python3.11/dist-packages (from matplotlib<4->mlflow) (4.59.0)\n",
      "Requirement already satisfied: kiwisolver>=1.3.1 in /usr/local/lib/python3.11/dist-packages (from matplotlib<4->mlflow) (1.4.8)\n",
      "Requirement already satisfied: pillow>=8 in /usr/local/lib/python3.11/dist-packages (from matplotlib<4->mlflow) (11.3.0)\n",
      "Requirement already satisfied: pyparsing>=2.3.1 in /usr/local/lib/python3.11/dist-packages (from matplotlib<4->mlflow) (3.2.3)\n",
      "Requirement already satisfied: pytz>=2020.1 in /usr/local/lib/python3.11/dist-packages (from pandas<3->mlflow) (2025.2)\n",
      "Requirement already satisfied: tzdata>=2022.7 in /usr/local/lib/python3.11/dist-packages (from pandas<3->mlflow) (2025.2)\n",
      "Requirement already satisfied: joblib>=1.2.0 in /usr/local/lib/python3.11/dist-packages (from scikit-learn<2->mlflow) (1.5.1)\n",
      "Requirement already satisfied: threadpoolctl>=3.1.0 in /usr/local/lib/python3.11/dist-packages (from scikit-learn<2->mlflow) (3.6.0)\n",
      "Requirement already satisfied: greenlet>=1 in /usr/local/lib/python3.11/dist-packages (from sqlalchemy<3,>=1.4.0->mlflow) (3.2.3)\n",
      "Requirement already satisfied: google-auth~=2.0 in /usr/local/lib/python3.11/dist-packages (from databricks-sdk<1,>=0.20.0->mlflow-skinny==3.1.4->mlflow) (2.38.0)\n",
      "Requirement already satisfied: starlette<0.48.0,>=0.40.0 in /usr/local/lib/python3.11/dist-packages (from fastapi<1->mlflow-skinny==3.1.4->mlflow) (0.47.2)\n",
      "Requirement already satisfied: gitdb<5,>=4.0.1 in /usr/local/lib/python3.11/dist-packages (from gitpython<4,>=3.1.9->mlflow-skinny==3.1.4->mlflow) (4.0.12)\n",
      "Requirement already satisfied: zipp>=3.20 in /usr/local/lib/python3.11/dist-packages (from importlib_metadata!=4.7.0,<9,>=3.7.0->mlflow-skinny==3.1.4->mlflow) (3.23.0)\n",
      "Collecting opentelemetry-semantic-conventions==0.57b0 (from opentelemetry-sdk<3,>=1.9.0->mlflow-skinny==3.1.4->mlflow)\n",
      "  Downloading opentelemetry_semantic_conventions-0.57b0-py3-none-any.whl.metadata (2.4 kB)\n",
      "Requirement already satisfied: annotated-types>=0.6.0 in /usr/local/lib/python3.11/dist-packages (from pydantic<3,>=1.10.8->mlflow-skinny==3.1.4->mlflow) (0.7.0)\n",
      "Requirement already satisfied: pydantic-core==2.33.2 in /usr/local/lib/python3.11/dist-packages (from pydantic<3,>=1.10.8->mlflow-skinny==3.1.4->mlflow) (2.33.2)\n",
      "Requirement already satisfied: typing-inspection>=0.4.0 in /usr/local/lib/python3.11/dist-packages (from pydantic<3,>=1.10.8->mlflow-skinny==3.1.4->mlflow) (0.4.1)\n",
      "Requirement already satisfied: six>=1.5 in /usr/local/lib/python3.11/dist-packages (from python-dateutil<3,>=2.7.0->graphene<4->mlflow) (1.17.0)\n",
      "Requirement already satisfied: charset-normalizer<4,>=2 in /usr/local/lib/python3.11/dist-packages (from requests<3,>=2.17.3->mlflow-skinny==3.1.4->mlflow) (3.4.2)\n",
      "Requirement already satisfied: idna<4,>=2.5 in /usr/local/lib/python3.11/dist-packages (from requests<3,>=2.17.3->mlflow-skinny==3.1.4->mlflow) (3.10)\n",
      "Requirement already satisfied: certifi>=2017.4.17 in /usr/local/lib/python3.11/dist-packages (from requests<3,>=2.17.3->mlflow-skinny==3.1.4->mlflow) (2025.7.14)\n",
      "Requirement already satisfied: h11>=0.8 in /usr/local/lib/python3.11/dist-packages (from uvicorn<1->mlflow-skinny==3.1.4->mlflow) (0.16.0)\n",
      "Requirement already satisfied: smmap<6,>=3.0.1 in /usr/local/lib/python3.11/dist-packages (from gitdb<5,>=4.0.1->gitpython<4,>=3.1.9->mlflow-skinny==3.1.4->mlflow) (5.0.2)\n",
      "Requirement already satisfied: pyasn1-modules>=0.2.1 in /usr/local/lib/python3.11/dist-packages (from google-auth~=2.0->databricks-sdk<1,>=0.20.0->mlflow-skinny==3.1.4->mlflow) (0.4.2)\n",
      "Requirement already satisfied: rsa<5,>=3.1.4 in /usr/local/lib/python3.11/dist-packages (from google-auth~=2.0->databricks-sdk<1,>=0.20.0->mlflow-skinny==3.1.4->mlflow) (4.9.1)\n",
      "Requirement already satisfied: anyio<5,>=3.6.2 in /usr/local/lib/python3.11/dist-packages (from starlette<0.48.0,>=0.40.0->fastapi<1->mlflow-skinny==3.1.4->mlflow) (4.9.0)\n",
      "Requirement already satisfied: sniffio>=1.1 in /usr/local/lib/python3.11/dist-packages (from anyio<5,>=3.6.2->starlette<0.48.0,>=0.40.0->fastapi<1->mlflow-skinny==3.1.4->mlflow) (1.3.1)\n",
      "Requirement already satisfied: pyasn1<0.7.0,>=0.6.1 in /usr/local/lib/python3.11/dist-packages (from pyasn1-modules>=0.2.1->google-auth~=2.0->databricks-sdk<1,>=0.20.0->mlflow-skinny==3.1.4->mlflow) (0.6.1)\n",
      "Downloading mlflow-3.1.4-py3-none-any.whl (24.7 MB)\n",
      "\u001b[2K   \u001b[90m━━━━━━━━━━━━━━━━━━━━━━━━━━━━━━━━━━━━━━━━\u001b[0m \u001b[32m24.7/24.7 MB\u001b[0m \u001b[31m84.2 MB/s\u001b[0m eta \u001b[36m0:00:00\u001b[0m\n",
      "\u001b[?25hDownloading mlflow_skinny-3.1.4-py3-none-any.whl (1.9 MB)\n",
      "\u001b[2K   \u001b[90m━━━━━━━━━━━━━━━━━━━━━━━━━━━━━━━━━━━━━━━━\u001b[0m \u001b[32m1.9/1.9 MB\u001b[0m \u001b[31m76.8 MB/s\u001b[0m eta \u001b[36m0:00:00\u001b[0m\n",
      "\u001b[?25hDownloading alembic-1.16.4-py3-none-any.whl (247 kB)\n",
      "\u001b[2K   \u001b[90m━━━━━━━━━━━━━━━━━━━━━━━━━━━━━━━━━━━━━━━━\u001b[0m \u001b[32m247.0/247.0 kB\u001b[0m \u001b[31m24.9 MB/s\u001b[0m eta \u001b[36m0:00:00\u001b[0m\n",
      "\u001b[?25hDownloading docker-7.1.0-py3-none-any.whl (147 kB)\n",
      "\u001b[2K   \u001b[90m━━━━━━━━━━━━━━━━━━━━━━━━━━━━━━━━━━━━━━━━\u001b[0m \u001b[32m147.8/147.8 kB\u001b[0m \u001b[31m16.4 MB/s\u001b[0m eta \u001b[36m0:00:00\u001b[0m\n",
      "\u001b[?25hDownloading graphene-3.4.3-py2.py3-none-any.whl (114 kB)\n",
      "\u001b[2K   \u001b[90m━━━━━━━━━━━━━━━━━━━━━━━━━━━━━━━━━━━━━━━━\u001b[0m \u001b[32m114.9/114.9 kB\u001b[0m \u001b[31m11.5 MB/s\u001b[0m eta \u001b[36m0:00:00\u001b[0m\n",
      "\u001b[?25hDownloading gunicorn-23.0.0-py3-none-any.whl (85 kB)\n",
      "\u001b[2K   \u001b[90m━━━━━━━━━━━━━━━━━━━━━━━━━━━━━━━━━━━━━━━━\u001b[0m \u001b[32m85.0/85.0 kB\u001b[0m \u001b[31m8.7 MB/s\u001b[0m eta \u001b[36m0:00:00\u001b[0m\n",
      "\u001b[?25hDownloading databricks_sdk-0.60.0-py3-none-any.whl (677 kB)\n",
      "\u001b[2K   \u001b[90m━━━━━━━━━━━━━━━━━━━━━━━━━━━━━━━━━━━━━━━━\u001b[0m \u001b[32m677.0/677.0 kB\u001b[0m \u001b[31m52.8 MB/s\u001b[0m eta \u001b[36m0:00:00\u001b[0m\n",
      "\u001b[?25hDownloading graphql_core-3.2.6-py3-none-any.whl (203 kB)\n",
      "\u001b[2K   \u001b[90m━━━━━━━━━━━━━━━━━━━━━━━━━━━━━━━━━━━━━━━━\u001b[0m \u001b[32m203.4/203.4 kB\u001b[0m \u001b[31m20.3 MB/s\u001b[0m eta \u001b[36m0:00:00\u001b[0m\n",
      "\u001b[?25hDownloading graphql_relay-3.2.0-py3-none-any.whl (16 kB)\n",
      "Downloading opentelemetry_api-1.36.0-py3-none-any.whl (65 kB)\n",
      "\u001b[2K   \u001b[90m━━━━━━━━━━━━━━━━━━━━━━━━━━━━━━━━━━━━━━━━\u001b[0m \u001b[32m65.6/65.6 kB\u001b[0m \u001b[31m6.1 MB/s\u001b[0m eta \u001b[36m0:00:00\u001b[0m\n",
      "\u001b[?25hDownloading opentelemetry_sdk-1.36.0-py3-none-any.whl (119 kB)\n",
      "\u001b[2K   \u001b[90m━━━━━━━━━━━━━━━━━━━━━━━━━━━━━━━━━━━━━━━━\u001b[0m \u001b[32m120.0/120.0 kB\u001b[0m \u001b[31m12.4 MB/s\u001b[0m eta \u001b[36m0:00:00\u001b[0m\n",
      "\u001b[?25hDownloading opentelemetry_semantic_conventions-0.57b0-py3-none-any.whl (201 kB)\n",
      "\u001b[2K   \u001b[90m━━━━━━━━━━━━━━━━━━━━━━━━━━━━━━━━━━━━━━━━\u001b[0m \u001b[32m201.6/201.6 kB\u001b[0m \u001b[31m20.7 MB/s\u001b[0m eta \u001b[36m0:00:00\u001b[0m\n",
      "\u001b[?25hInstalling collected packages: gunicorn, graphql-core, opentelemetry-api, graphql-relay, docker, alembic, opentelemetry-semantic-conventions, graphene, databricks-sdk, opentelemetry-sdk, mlflow-skinny, mlflow\n",
      "Successfully installed alembic-1.16.4 databricks-sdk-0.60.0 docker-7.1.0 graphene-3.4.3 graphql-core-3.2.6 graphql-relay-3.2.0 gunicorn-23.0.0 mlflow-3.1.4 mlflow-skinny-3.1.4 opentelemetry-api-1.36.0 opentelemetry-sdk-1.36.0 opentelemetry-semantic-conventions-0.57b0\n"
     ]
    }
   ]
  },
  {
   "cell_type": "code",
   "source": [
    "import mlflow\n",
    "import os\n",
    "\n",
    "os.environ[\"MLFLOW_TRACKING_USERNAME\"] = \"goguaD\"\n",
    "os.environ[\"MLFLOW_TRACKING_PASSWORD\"] = \"685c4f5b2a0c555f9136c60a8666661d952de9be\"\n",
    "mlflow.set_tracking_uri(\"https://dagshub.com/goguaD/finalProjectML.mlflow\")\n",
    "mlflow.set_experiment(\"walmart-sales\")\n",
    "\n",
    "wmae = 1649.9871043973637\n",
    "\n",
    "with mlflow.start_run(run_name = \"LightGBM_best\"):\n",
    "    mlflow.log_param(\"model\", \"LightGBM\")\n",
    "    mlflow.log_param(\"n_estimators\", 2000)\n",
    "    mlflow.log_param(\"learning_rate\", 0.02)\n",
    "    mlflow.log_param(\"max_depth\", -1)\n",
    "    mlflow.log_param(\"subsample\", 0.8)\n",
    "    mlflow.log_param(\"num_leaves\", 128)\n",
    "\n",
    "    mlflow.log_metric(\"final_wmae\", wmae)\n",
    "\n",
    "    print(\"Logged successfully!\")\n",
    "\n",
    "wmae = 1814.5404\n",
    "\n",
    "with mlflow.start_run(run_name = \"LightGBM_64\"):\n",
    "    mlflow.log_param(\"model\", \"LightGBM\")\n",
    "    mlflow.log_param(\"n_estimators\", 2000)\n",
    "    mlflow.log_param(\"learning_rate\", 0.02)\n",
    "    mlflow.log_param(\"max_depth\", -1)\n",
    "    mlflow.log_param(\"subsample\", 0.8)\n",
    "    mlflow.log_param(\"num_leaves\", 64)\n",
    "\n",
    "    mlflow.log_metric(\"final_wmae\", wmae)\n",
    "\n",
    "    print(\"Logged successfully!\")\n",
    "\n",
    "wmae = 2034.72\n",
    "\n",
    "with mlflow.start_run(run_name = \"LightGBM_32\"):\n",
    "    mlflow.log_param(\"model\", \"LightGBM\")\n",
    "    mlflow.log_param(\"n_estimators\", 2000)\n",
    "    mlflow.log_param(\"learning_rate\", 0.02)\n",
    "    mlflow.log_param(\"max_depth\", -1)\n",
    "    mlflow.log_param(\"subsample\", 0.8)\n",
    "    mlflow.log_param(\"num_leaves\", 32)\n",
    "\n",
    "    mlflow.log_metric(\"final_wmae\", wmae)\n",
    "\n",
    "    print(\"Logged successfully!\")\n",
    "\n",
    "\n",
    "\n",
    "\n",
    "\n"
   ],
   "metadata": {
    "colab": {
     "base_uri": "https://localhost:8080/"
    },
    "id": "Vc-48_JQDzCt",
    "executionInfo": {
     "status": "ok",
     "timestamp": 1753958578898,
     "user_tz": -240,
     "elapsed": 27453,
     "user": {
      "displayName": "ZipperNator",
      "userId": "13572371089708989227"
     }
    },
    "outputId": "70f5bae0-d71b-4333-f917-9d94b6875cf7"
   },
   "execution_count": null,
   "outputs": [
    {
     "output_type": "stream",
     "name": "stdout",
     "text": [
      "Logged successfully!\n",
      "🏃 View run LightGBM_best at: https://dagshub.com/goguaD/finalProjectML.mlflow/#/experiments/0/runs/2de189413b2449f69f47ca1626b88764\n",
      "🧪 View experiment at: https://dagshub.com/goguaD/finalProjectML.mlflow/#/experiments/0\n",
      "Logged successfully!\n",
      "🏃 View run LightGBM_64 at: https://dagshub.com/goguaD/finalProjectML.mlflow/#/experiments/0/runs/71bc59640630420084b51c74819ee215\n",
      "🧪 View experiment at: https://dagshub.com/goguaD/finalProjectML.mlflow/#/experiments/0\n",
      "Logged successfully!\n",
      "🏃 View run LightGBM_32 at: https://dagshub.com/goguaD/finalProjectML.mlflow/#/experiments/0/runs/b8543b3331574ca0947d9741bb30b29b\n",
      "🧪 View experiment at: https://dagshub.com/goguaD/finalProjectML.mlflow/#/experiments/0\n"
     ]
    }
   ]
  },
  {
   "cell_type": "code",
   "source": [],
   "metadata": {
    "id": "rQHanTaSE45m"
   },
   "execution_count": null,
   "outputs": []
  }
 ]
}